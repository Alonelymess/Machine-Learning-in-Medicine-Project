{
 "cells": [
  {
   "cell_type": "markdown",
   "metadata": {},
   "source": [
    "# Import library"
   ]
  },
  {
   "cell_type": "code",
   "execution_count": 1,
   "metadata": {
    "execution": {
     "iopub.execute_input": "2023-12-28T01:35:25.098746Z",
     "iopub.status.busy": "2023-12-28T01:35:25.098321Z",
     "iopub.status.idle": "2023-12-28T01:35:30.565577Z",
     "shell.execute_reply": "2023-12-28T01:35:30.563869Z",
     "shell.execute_reply.started": "2023-12-28T01:35:25.098716Z"
    }
   },
   "outputs": [],
   "source": [
    "import os\n",
    "import math\n",
    "import gc\n",
    "# You can use `tensorflow`, `pytorch`, `jax` here\n",
    "# KerasCore makes the notebook backend agnostic :)\n",
    "# os.environ[\"KERAS_BACKEND\"] = \"tensorflow\"\n",
    "\n",
    "# import keras_cv\n",
    "# import keras_core as keras\n",
    "# from keras_core import layers\n",
    "\n",
    "import torch\n",
    "from torch import nn\n",
    "from torch.utils.data import DataLoader\n",
    "from torch.utils.data import Dataset\n",
    "from PIL import Image\n",
    "import torchvision\n",
    "from torchvision import transforms\n",
    "\n",
    "from pathlib import Path\n",
    "import numpy as np\n",
    "import pandas as pd\n",
    "#import tensorflow as tf\n",
    "from matplotlib import pyplot as plt\n",
    "from sklearn.model_selection import train_test_split\n",
    "import cv2\n",
    "from tqdm.notebook import tqdm\n",
    "from glob import glob\n",
    "from joblib import Parallel, delayed\n",
    "import matplotlib.patches as patches\n",
    "import matplotlib.pyplot as plt"
   ]
  },
  {
   "cell_type": "markdown",
   "metadata": {},
   "source": [
    "# Prepare to train"
   ]
  },
  {
   "cell_type": "markdown",
   "metadata": {},
   "source": [
    "## Dataset"
   ]
  },
  {
   "cell_type": "markdown",
   "metadata": {},
   "source": [
    "## Create png from dicom"
   ]
  },
  {
   "cell_type": "markdown",
   "metadata": {},
   "source": [
    "Convert dicom to png"
   ]
  },
  {
   "cell_type": "code",
   "execution_count": null,
   "metadata": {},
   "outputs": [],
   "source": [
    "def standardize_pixel_array(dcm):\n",
    "    # Correct DICOM pixel_array if PixelRepresentation == 1.\n",
    "    pixel_array = dcm.pixel_array\n",
    "    if dcm.PixelRepresentation == 1:\n",
    "        bit_shift = dcm.BitsAllocated - dcm.BitsStored\n",
    "        dtype = pixel_array.dtype \n",
    "        new_array = (pixel_array << bit_shift).astype(dtype) >>  bit_shift\n",
    "        pixel_array = pydicom.pixel_data_handlers.util.apply_modality_lut(new_array, dcm)\n",
    "    return pixel_array\n",
    "\n",
    "def read_xray(path, fix_monochrome=True):\n",
    "    dicom = pydicom.dcmread(path)\n",
    "    data = standardize_pixel_array(dicom)\n",
    "    data = data - np.min(data)\n",
    "    data = data / (np.max(data) + 1e-5)\n",
    "    if fix_monochrome and dicom.PhotometricInterpretation == \"MONOCHROME1\":\n",
    "        data = 1.0 - data\n",
    "    return data\n",
    "\n",
    "def resize_and_save(df, idx):\n",
    "    path = df['image_path'][idx].split('/')\n",
    "    set_type = path[4]\n",
    "    patient_id = path[5]\n",
    "    series_id = path[6]\n",
    "\n",
    "    kidney = 0\n",
    "    liver = 0\n",
    "    spleen = 0\n",
    "    \n",
    "    if set_type == 'train_images':\n",
    "        DF = patient_df[patient_df['patient_id'] == int(patient_id)]\n",
    "        #For kidney\n",
    "        if DF['kidney_low'].values[0] == 1:\n",
    "            kidney = 1\n",
    "        elif DF['kidney_high'].values[0] == 1:\n",
    "            kidney = 2\n",
    "\n",
    "        #For liver\n",
    "        if DF['liver_low'].values[0] == 1:\n",
    "            liver = 1\n",
    "        elif DF['liver_high'].values[0] == 1:\n",
    "            liver = 2\n",
    "\n",
    "        #For spleen\n",
    "        if DF['spleen_low'].values[0] == 1:\n",
    "            spleen = 1\n",
    "        elif DF['spleen_high'].values[0] == 1:\n",
    "            spleen = 2\n",
    "\n",
    "        save_folder = f'{BASE_PATH}/{set_type}/{patient_id}_{kidney}_{liver}_{spleen}/{series_id}'\n",
    "    else:\n",
    "        save_folder = f'{BASE_PATH}/{set_type}/{patient_id}/{series_id}'\n",
    "    os.makedirs(save_folder, exist_ok = True)\n",
    "#     print(df.instance_number[idx])\n",
    "#     print(save_folder)\n",
    "    if os.path.exists(f'{save_folder}/{df.instance_number[idx]}.png'):\n",
    "        return\n",
    "    img = read_xray(df.dicom_path[idx])\n",
    "    #h, w = img.shape[:2]  # orig hw\n",
    "    img = cv2.resize(img, config.IMAGE_SIZE, cv2.INTER_LINEAR)\n",
    "    img = (img * 255).astype(np.uint8)\n",
    "    cv2.imwrite(f'{save_folder}/{df.instance_number[idx]}.png', img)\n",
    "    return"
   ]
  },
  {
   "cell_type": "code",
   "execution_count": null,
   "metadata": {},
   "outputs": [],
   "source": [
    "p1 = Parallel(n_jobs=2, backend=\"threading\")(\n",
    "    delayed(resize_and_save)(test_df, test_idx) for test_idx in tqdm(range(len(test_df)), leave=True, position=0)\n",
    "    \n",
    ")\n",
    "#!zip -m test.zip /kaggle/working/Group_Project/test_images\n",
    "p2 = Parallel(n_jobs=2, backend=\"threading\")(\n",
    "    delayed(resize_and_save)(train_df, train_idx) for train_idx in tqdm(range(len(train_df)), leave=True, position=0)\n",
    ")\n",
    "#!zip -m train_up.zip /kaggle/working/Group_Project/train_images\n",
    "\n",
    "del p1, p2\n",
    "gc.collect()\n"
   ]
  },
  {
   "cell_type": "markdown",
   "metadata": {},
   "source": [
    "# Prepare dataset (╬▔皿▔)╯"
   ]
  },
  {
   "cell_type": "code",
   "execution_count": null,
   "metadata": {},
   "outputs": [],
   "source": [
    "paths=[]\n",
    "ids=[]\n",
    "for dirname, _, filenames in os.walk('/kaggle/input/rsna-2023-abdominal-trauma-detection/segmentations'):\n",
    "    for filename in filenames:\n",
    "        ids+=[filename[0:-4]]\n",
    "        paths+=[(os.path.join(dirname, filename))]"
   ]
  },
  {
   "cell_type": "code",
   "execution_count": null,
   "metadata": {},
   "outputs": [],
   "source": [
    "def get_bound(image, colors):\n",
    "    list_col = []\n",
    "    benchmark_colors=[1, 2, 3, 4]   \n",
    "#   organs=['liver','spleen', 'left kidney','right kidney']\n",
    "    for color in colors:\n",
    "        if color in benchmark_colors:\n",
    "            x_list = [i[1] for i in np.argwhere(image==color)]\n",
    "            y_list = [i[0] for i in np.argwhere(image==color)]\n",
    "            xmin = min(x_list)\n",
    "            xmax = max(x_list)\n",
    "            ymin = min(y_list)\n",
    "            ymax = max(y_list)\n",
    "            xcenter = (xmin + xmax)/2\n",
    "            xcenter = xcenter/image.shape[1]\n",
    "            ycenter = (ymin + ymax)/2\n",
    "            ycenter = ycenter/image.shape[0]\n",
    "            width = ymax - ymin\n",
    "            width = width/image.shape[1]\n",
    "            height = xmax - xmin\n",
    "            height = height/image.shape[0]\n",
    "            label_org = benchmark_colors.index(color)\n",
    "            list_col.append((label_org, xcenter, ycenter, width, height))\n",
    "#         list_col.append((xmin, xmax, ymin, ymax))\n",
    "    return list_col"
   ]
  },
  {
   "cell_type": "code",
   "execution_count": null,
   "metadata": {},
   "outputs": [],
   "source": [
    "os.makedirs('/kaggle/working/train', exist_ok = True)\n",
    "os.makedirs('/kaggle/working/test', exist_ok = True)"
   ]
  },
  {
   "cell_type": "code",
   "execution_count": null,
   "metadata": {},
   "outputs": [],
   "source": [
    "# use number in segmentation to find imgs in dicom\n",
    "dicom_path = list((src/ 'train_images').glob(f'*/10494'))[0]\n",
    "patient_id, series_id = dicom_path.parent.name, dicom_path.name\n",
    "print('patient_id is ' + patient_id, 'series_id is ' +series_id + ' in Segmentation folder')\n",
    "\n",
    "imgs = []\n",
    "files = sorted(\n",
    "    list((src / 'train_images' / patient_id / series_id).glob('*.dcm')),\n",
    "    key = lambda x : int(x.stem)\n",
    ")\n",
    "for f in files:\n",
    "    imgs.append(pydicom.dcmread(f).pixel_array)\n",
    "imgs = np.stack(imgs)\n",
    "\n",
    "masks = niba.load('/kaggle/input/rsna-2023-abdominal-trauma-detection/segmentations/10494.nii').get_fdata()\n",
    "masks = masks.transpose((2, 1, 0))[::-1, ::-1, :] # we change the order of the dimensions. Flip horizontally and vertically.\n",
    "\n",
    "xarr_imgs = xr.DataArray(\n",
    "    imgs,\n",
    "    dims = ['file', 'height', 'width'],\n",
    "    coords = [\n",
    "        [f.name for f in files],\n",
    "        [i for i in range(512)],\n",
    "        [i for i in range(512)],\n",
    "    ]\n",
    ")\n",
    "\n",
    "xarr_masks = xr.DataArray(\n",
    "    masks,\n",
    "    dims = ['file', 'height', 'width'],\n",
    "    coords = [\n",
    "        [f.name for f in files],\n",
    "        [i for i in range(512)],\n",
    "        [i for i in range(512)],\n",
    "    ]\n",
    ")\n",
    "\n",
    "for j in tqdm(range(xarr_masks.shape[0])):\n",
    "    # Read segment\n",
    "    seg_img = (xarr_masks.isel(file = j).values).astype(np.uint8)\n",
    "    colors_exist = np.unique(seg_img)\n",
    "\n",
    "    if len(colors_exist)>2: # If more than 1 organ, >2 because we ignore bowel\n",
    "        bboxes = get_bound(seg_img, colors_exist)\n",
    "        fig, ax = plt.subplots(1, 2, figsize = (12, 6))\n",
    "        ax[0].imshow(seg_img)\n",
    "        ax[1].imshow(xarr_imgs.isel(file=j).values, cmap = 'gray')\n",
    "        plt.axis('off')\n",
    "        for bbox in bboxes:\n",
    "            xcenter = bbox[1]*img.shape[1]\n",
    "            ycenter = bbox[2]*img.shape[0]\n",
    "            width = bbox[3]*img.shape[1]\n",
    "            height = bbox[4]*img.shape[0]\n",
    "        \n",
    "            # Calculate the top-left and bottom-right coordinates of the bounding box\n",
    "            x1 = int(xcenter - width / 2)\n",
    "            y1 = int(ycenter - height / 2)\n",
    "            x2 = int(xcenter + width / 2)\n",
    "            y2 = int(ycenter + height / 2)\n",
    "\n",
    "            # Draw the bounding box on the image\n",
    "            cv2.rectangle(image, (x1, y1), (x2, y2), (0, 255, 0), 2)\n",
    "        plt.show()\n"
   ]
  },
  {
   "cell_type": "code",
   "execution_count": null,
   "metadata": {},
   "outputs": [],
   "source": [
    "src = Path('/kaggle/input/rsna-2023-abdominal-trauma-detection')\n",
    "colors=[1, 2, 4, 3]\n",
    "organs=['liver','spleen','right kidney','left kidney']\n",
    "for i in tqdm(range(len(ids))):\n",
    "    # use number in segmentation to find imgs in dicom\n",
    "    dicom_path = list((src/ 'train_images').glob(f'*/{ids[i]}'))[0]\n",
    "    patient_id, series_id = dicom_path.parent.name, dicom_path.name\n",
    "    print('patient_id is ' + patient_id, 'series_id is ' +series_id + ' in Segmentation folder')\n",
    "    \n",
    "    imgs = []\n",
    "    files = sorted(\n",
    "        list((src / 'train_images' / patient_id / series_id).glob('*.dcm')),\n",
    "        key = lambda x : int(x.stem)\n",
    "    )\n",
    "    for f in files:\n",
    "        imgs.append(pydicom.dcmread(f).pixel_array)\n",
    "    imgs = np.stack(imgs)\n",
    "    \n",
    "    masks = niba.load(paths[i]).get_fdata()\n",
    "    masks = masks.transpose((2, 1, 0))[::-1, ::-1, :] # we change the order of the dimensions. Flip horizontally and vertically.\n",
    "    \n",
    "    xarr_imgs = xr.DataArray(\n",
    "        imgs,\n",
    "        dims = ['file', 'height', 'width'],\n",
    "        coords = [\n",
    "            [f.name for f in files],\n",
    "            [i for i in range(512)],\n",
    "            [i for i in range(512)],\n",
    "        ]\n",
    "    )\n",
    "\n",
    "    xarr_masks = xr.DataArray(\n",
    "        masks,\n",
    "        dims = ['file', 'height', 'width'],\n",
    "        coords = [\n",
    "            [f.name for f in files],\n",
    "            [i for i in range(512)],\n",
    "            [i for i in range(512)],\n",
    "        ]\n",
    "    )\n",
    "    \n",
    "    for j in tqdm(range(xarr_masks.shape[0])):\n",
    "        # Read segment\n",
    "        seg_img = (xarr_masks.isel(file = j).values).astype(np.uint8)\n",
    "        colors_exist = np.unique(seg_img)\n",
    "                \n",
    "        if len(colors_exist)>2 and 1 not in colors_exist: # If more than 1 organ\n",
    "            fig, ax = plt.subplots(1, 2, figsize = (12, 6))\n",
    "            ax[0].imshow(seg_img)\n",
    "            ax[1].imshow(xarr_imgs.isel(file=j).values, cmap = 'gray')\n",
    "            plt.axis('off')\n",
    "            plt.show()\n",
    "            print(colors_exist)\n",
    "#             label_box = get_bound(seg_img, colors_exist)\n",
    "#             print(label_box)\n",
    "#             focus = xarr_imgs.isel(file=j).values\n",
    "#             newfile= '/kaggle/working/sg/image/'+slice_id+'.jpg'\n",
    "#             #cv2.imwrite(newfile,focus)\n",
    "#             label_box = get_bound(hsv, color_exist)\n",
    "#             with open(f'/kaggle/working/sg/label/{slice_id}.txt', 'w',encoding='UTF-8') as file:\n",
    "#                 for box in label_box:\n",
    "#                     file.write(f'{box[0]} {box[1]} {box[2]} {box[3]} {box[4]}\\n')\n",
    "            \n"
   ]
  },
  {
   "cell_type": "code",
   "execution_count": null,
   "metadata": {},
   "outputs": [],
   "source": [
    "images=[]\n",
    "colors=[(51, 51, 51), (255, 255, 255), (102, 102, 102), (204, 204, 204), (153, 153, 153)]\n",
    "organs=['bowel','liver','spleen','right kidney','left kidney']\n",
    "for path in paths:\n",
    "    if path.split('/')[-1]=='51136.nii':\n",
    "        nii_img = niba.load(path)\n",
    "        data = nii_img.get_fdata()\n",
    "        print(data.shape)\n",
    "        imagesi=[]\n",
    "        for i in range(data.shape[2]):\n",
    "            \n",
    "            #Read segment\n",
    "            seg_img=(data[:,:,i]*51).astype(np.uint8)\n",
    "            #image = cv2.imread(path0, cv2.IMREAD_COLOR)\n",
    "            seg_image = cv2.cvtColor(seg_img, cv2.COLOR_BGR2RGB)\n",
    "            hsv = cv2.cvtColor(seg_image, cv2.COLOR_BGR2HSV)\n",
    "            pixels = np.argwhere(hsv>0)\n",
    "            all_colors = {tuple(image[pixel[0], pixel[1]]) for pixel in pixels}\n",
    "            \n",
    "            #if img.max()>0 and len(all_colors)>=4:\n",
    "            fig, axs = plt.subplots(1, 2, figsize = (12, 6))\n",
    "            #print(img.max())\n",
    "            img=np.rot90(img)\n",
    "            axs[0].imshow(img)\n",
    "            axs[1].imshow(read_xray(test_path + '/' + str(i+sorted(test)[0])+'.dcm'), cmap = 'gray')\n",
    "            plt.axis('off')\n",
    "            plt.show()\n",
    "            newfile='10494_seg_'+str(i).zfill(4)+'.png'\n",
    "            print(test_path + '/' + str(i+sorted(test)[0])+'.dcm')\n",
    "            print(newfile)\n",
    "            #cv2.imwrite(newfile,img)\n",
    "            imagesi+=[img]\n",
    "        print(len(imagesi))\n",
    "        images+=[imagesi]"
   ]
  },
  {
   "cell_type": "markdown",
   "metadata": {},
   "source": [
    "# Training time ☆*: .｡. o(≧▽≦)o .｡.:*☆"
   ]
  },
  {
   "cell_type": "markdown",
   "metadata": {},
   "source": [
    "## Training object detection"
   ]
  },
  {
   "cell_type": "code",
   "execution_count": null,
   "metadata": {},
   "outputs": [],
   "source": [
    "torch.cuda.empty_cache()"
   ]
  },
  {
   "cell_type": "code",
   "execution_count": null,
   "metadata": {},
   "outputs": [],
   "source": [
    "!nvidia-smi"
   ]
  },
  {
   "cell_type": "code",
   "execution_count": null,
   "metadata": {
    "execution": {
     "iopub.execute_input": "2023-12-27T13:42:01.811289Z",
     "iopub.status.busy": "2023-12-27T13:42:01.810776Z",
     "iopub.status.idle": "2023-12-27T13:42:18.409209Z",
     "shell.execute_reply": "2023-12-27T13:42:18.408251Z",
     "shell.execute_reply.started": "2023-12-27T13:42:01.811262Z"
    }
   },
   "outputs": [],
   "source": [
    "from IPython import display\n",
    "display.clear_output()\n",
    "\n",
    "import ultralytics\n",
    "ultralytics.checks()\n",
    "from ultralytics import YOLO"
   ]
  },
  {
   "cell_type": "code",
   "execution_count": null,
   "metadata": {
    "scrolled": true
   },
   "outputs": [],
   "source": [
    "base_path = '/storage/student5/minh_chu/Abdominal'\n",
    "plt.imshow(cv2.imread(f\"{base_path}/data/images/20869_35067_43.jpg\"))"
   ]
  },
  {
   "cell_type": "code",
   "execution_count": 37,
   "metadata": {},
   "outputs": [],
   "source": [
    "df = pd.read_csv('/home/student5/minh_chu/train.csv')"
   ]
  },
  {
   "cell_type": "code",
   "execution_count": 44,
   "metadata": {},
   "outputs": [
    {
     "data": {
      "text/html": [
       "<div>\n",
       "<style scoped>\n",
       "    .dataframe tbody tr th:only-of-type {\n",
       "        vertical-align: middle;\n",
       "    }\n",
       "\n",
       "    .dataframe tbody tr th {\n",
       "        vertical-align: top;\n",
       "    }\n",
       "\n",
       "    .dataframe thead th {\n",
       "        text-align: right;\n",
       "    }\n",
       "</style>\n",
       "<table border=\"1\" class=\"dataframe\">\n",
       "  <thead>\n",
       "    <tr style=\"text-align: right;\">\n",
       "      <th></th>\n",
       "      <th>patient_id</th>\n",
       "      <th>bowel_healthy</th>\n",
       "      <th>bowel_injury</th>\n",
       "      <th>extravasation_healthy</th>\n",
       "      <th>extravasation_injury</th>\n",
       "      <th>kidney_healthy</th>\n",
       "      <th>kidney_low</th>\n",
       "      <th>kidney_high</th>\n",
       "      <th>liver_healthy</th>\n",
       "      <th>liver_low</th>\n",
       "      <th>liver_high</th>\n",
       "      <th>spleen_healthy</th>\n",
       "      <th>spleen_low</th>\n",
       "      <th>spleen_high</th>\n",
       "      <th>any_injury</th>\n",
       "    </tr>\n",
       "  </thead>\n",
       "  <tbody>\n",
       "    <tr>\n",
       "      <th>0</th>\n",
       "      <td>10004</td>\n",
       "      <td>1</td>\n",
       "      <td>0</td>\n",
       "      <td>0</td>\n",
       "      <td>1</td>\n",
       "      <td>0</td>\n",
       "      <td>1</td>\n",
       "      <td>0</td>\n",
       "      <td>1</td>\n",
       "      <td>0</td>\n",
       "      <td>0</td>\n",
       "      <td>0</td>\n",
       "      <td>0</td>\n",
       "      <td>1</td>\n",
       "      <td>1</td>\n",
       "    </tr>\n",
       "  </tbody>\n",
       "</table>\n",
       "</div>"
      ],
      "text/plain": [
       "   patient_id  bowel_healthy  bowel_injury  extravasation_healthy  \\\n",
       "0       10004              1             0                      0   \n",
       "\n",
       "   extravasation_injury  kidney_healthy  kidney_low  kidney_high  \\\n",
       "0                     1               0           1            0   \n",
       "\n",
       "   liver_healthy  liver_low  liver_high  spleen_healthy  spleen_low  \\\n",
       "0              1          0           0               0           0   \n",
       "\n",
       "   spleen_high  any_injury  \n",
       "0            1           1  "
      ]
     },
     "execution_count": 44,
     "metadata": {},
     "output_type": "execute_result"
    }
   ],
   "source": [
    "df[df['patient_id'] == 10004]"
   ]
  },
  {
   "cell_type": "code",
   "execution_count": 49,
   "metadata": {},
   "outputs": [
    {
     "name": "stdout",
     "output_type": "stream",
     "text": [
      "['0 0.447265625 0.4716796875 0.44921875 0.384765625\\n', '1 0.6953125 0.5810546875 0.12109375 0.107421875\\n']\n",
      "['0 0.447265625 0.4716796875 0.44921875 0.384765625\\n', '1 0.6953125 0.5810546875 0.12109375 0.107421875\\n']\n",
      "h\n",
      "h1\n",
      "['1 0.447265625 0.4716796875 0.44921875 0.384765625\\n', '5 0.6953125 0.5810546875 0.12109375 0.107421875\\n']\n"
     ]
    }
   ],
   "source": [
    "label = '10004_21057_401.txt'\n",
    "with open(f'{label_path}/{label}', 'r') as file:\n",
    "    datas = file.readlines()\n",
    "    print(datas)\n",
    "    new_datas = datas.copy()\n",
    "    print(new_datas)\n",
    "    for i in range(len(datas)):\n",
    "        chosen_patient = df[df['patient_id'] == int(patient)]\n",
    "        new_datas[i] = list(new_datas[i])\n",
    "        if datas[i][0] == '0':\n",
    "            print('h')\n",
    "            if chosen_patient['liver_healthy'].iloc[0] == 1:\n",
    "                new_datas[i][0] = '0'\n",
    "            elif chosen_patient['liver_low'].iloc[0] == 1:\n",
    "                new_datas[i][0] = '1'\n",
    "            elif chosen_patient['liver_high'].iloc[0] == 1:\n",
    "                new_datas[i][0] = '2'\n",
    "\n",
    "        elif datas[i][0] == '1':\n",
    "            print('h1')\n",
    "            if chosen_patient['spleen_healthy'].iloc[0] == 1:\n",
    "                new_datas[i][0] = '3'\n",
    "            elif chosen_patient['spleen_low'].iloc[0] == 1:\n",
    "                new_datas[i][0] = '4'\n",
    "            elif chosen_patient['spleen_high'].iloc[0] == 1:\n",
    "                new_datas[i][0] = '5'\n",
    "\n",
    "        elif datas[i][0] == '2' or data[i][0] == '3':\n",
    "            if chosen_patient['kidney_healthy'].iloc[0] == 1:\n",
    "                new_datas[i][0] = '6'\n",
    "            elif chosen_patient['kidney_low'].iloc[0] == 1:\n",
    "                new_datas[i][0] = '7'\n",
    "            elif chosen_patient['kidney_high'].iloc[0] == 1:\n",
    "                new_datas[i][0] = '8'\n",
    "        new_datas[i] = ''.join(new_datas[i])\n",
    "    \n",
    "    print(new_datas)\n"
   ]
  },
  {
   "cell_type": "code",
   "execution_count": 50,
   "metadata": {},
   "outputs": [
    {
     "data": {
      "application/vnd.jupyter.widget-view+json": {
       "model_id": "ec26f36994fe4a4eb5eaec5ab804f531",
       "version_major": 2,
       "version_minor": 0
      },
      "text/plain": [
       "  0%|          | 0/29148 [00:00<?, ?it/s]"
      ]
     },
     "metadata": {},
     "output_type": "display_data"
    }
   ],
   "source": [
    "label_path = '/storage/student5/minh_chu/Abdominal/data/labels'\n",
    "\n",
    "# liver_healthy, liver_low, liver_high\n",
    "#      0              1          2\n",
    "\n",
    "# spleen_healthy, spleen_low, spleen_high\n",
    "#      3              4          5\n",
    "\n",
    "# kidney_healthy, kidney_low, kidney_high\n",
    "#      6              7          8\n",
    "new_label_path = '/storage/student5/minh_chu/Abdominal/data/new_labels'\n",
    "os.makedirs(new_label_path, exist_ok=True)\n",
    "patient_list = set()\n",
    "for label in tqdm(sorted(os.listdir(label_path))):\n",
    "    patient = label.split('_')[0]\n",
    "    patient_list.add(patient)\n",
    "#     continue\n",
    "    with open(f'{label_path}/{label}', 'r') as file:\n",
    "        datas = file.readlines()\n",
    "        new_datas = datas.copy()\n",
    "        for i in range(len(datas)):\n",
    "            chosen_patient = df[df['patient_id'] == int(patient)]\n",
    "            new_datas[i] = list(new_datas[i])\n",
    "            if datas[i][0] == '0':\n",
    "                if chosen_patient['liver_healthy'].iloc[0] == 1:\n",
    "                    new_datas[i][0] = '0'\n",
    "                elif chosen_patient['liver_low'].iloc[0] == 1:\n",
    "                    new_datas[i][0] = '1'\n",
    "                elif chosen_patient['liver_high'].iloc[0] == 1:\n",
    "                    new_datas[i][0] = '2'\n",
    "\n",
    "            elif datas[i][0] == '1':\n",
    "                if chosen_patient['spleen_healthy'].iloc[0] == 1:\n",
    "                    new_datas[i][0] = '3'\n",
    "                elif chosen_patient['spleen_low'].iloc[0] == 1:\n",
    "                    new_datas[i][0] = '4'\n",
    "                elif chosen_patient['spleen_high'].iloc[0] == 1:\n",
    "                    new_datas[i][0] = '5'\n",
    "\n",
    "            elif datas[i][0] == '2' or data[i][0] == '3':\n",
    "                if chosen_patient['kidney_healthy'].iloc[0] == 1:\n",
    "                    new_datas[i][0] = '6'\n",
    "                elif chosen_patient['kidney_low'].iloc[0] == 1:\n",
    "                    new_datas[i][0] = '7'\n",
    "                elif chosen_patient['kidney_high'].iloc[0] == 1:\n",
    "                    new_datas[i][0] = '8'\n",
    "            new_datas[i] = ''.join(new_datas[i])\n",
    "            \n",
    "    with open(f'{new_label_path}/{label}', 'w') as new_label:\n",
    "        for data in new_datas:\n",
    "#             print(data)\n",
    "            new_label.writelines(data)\n",
    "\n",
    "            \n",
    "        "
   ]
  },
  {
   "cell_type": "code",
   "execution_count": 53,
   "metadata": {},
   "outputs": [],
   "source": [
    "import random\n",
    "random.seed(42)\n",
    "patient_list = list(patient_list)\n",
    "random.shuffle(patient_list)"
   ]
  },
  {
   "cell_type": "code",
   "execution_count": 55,
   "metadata": {},
   "outputs": [],
   "source": [
    "# Calculate the sizes of each split\n",
    "total_size = len(patient_list)\n",
    "train_size = int(0.7 * total_size)\n",
    "valid_size = int(0.2 * total_size)\n",
    "test_size = total_size - train_size - valid_size\n",
    "\n",
    "# Split the list\n",
    "train_data = patient_list[:train_size]\n",
    "valid_data = patient_list[train_size:train_size+valid_size]\n",
    "test_data = patient_list[train_size+valid_size:]"
   ]
  },
  {
   "cell_type": "code",
   "execution_count": 56,
   "metadata": {},
   "outputs": [],
   "source": [
    "base_img_path = f'{base_path}/data/images'\n",
    "segment_path = f'{base_path}/data/new_labels'\n",
    "\n",
    "img_file = os.listdir(base_img_path)\n",
    "segment_file = os.listdir(segment_path)\n",
    "\n",
    "# Sort the list based on the numeric value\n",
    "sorted_img = sorted(img_file, key=lambda x: x[:-4])\n",
    "sorted_segment = sorted(segment_file, key=lambda x: x[:-4])"
   ]
  },
  {
   "cell_type": "code",
   "execution_count": 57,
   "metadata": {},
   "outputs": [],
   "source": [
    "def move(x, y, img_path, label_path):\n",
    "    old_x_path = base_img_path+'/'+x\n",
    "    new_x_path = img_path+'/' + x\n",
    "#         if os.path.exists(new_x_path):\n",
    "#             continue\n",
    "    shutil.copy(old_x_path, new_x_path)\n",
    "\n",
    "    old_y_path = segment_path+'/'+y\n",
    "    new_y_path = label_path+'/' + y\n",
    "    shutil.copy(old_y_path, new_y_path)"
   ]
  },
  {
   "cell_type": "code",
   "execution_count": 58,
   "metadata": {},
   "outputs": [
    {
     "data": {
      "application/vnd.jupyter.widget-view+json": {
       "model_id": "3010ca9df2db4e89bb763f7fe80c13dd",
       "version_major": 2,
       "version_minor": 0
      },
      "text/plain": [
       "  0%|          | 0/29148 [00:00<?, ?it/s]"
      ]
     },
     "metadata": {},
     "output_type": "display_data"
    }
   ],
   "source": [
    "for x, y in zip(tqdm(sorted_img), sorted_segment):\n",
    "    if x.split('_')[0] in train_data:\n",
    "        img_path = f'{base_path}/train/images'\n",
    "        label_path = f'{base_path}/train/labels'\n",
    "        os.makedirs(img_path,  exist_ok = True)\n",
    "        os.makedirs(label_path,  exist_ok = True)\n",
    "        move(x, y, img_path, label_path)\n",
    "    elif x.split('_')[0] in valid_data:\n",
    "        img_path = f'{base_path}/val/images'\n",
    "        label_path = f'{base_path}/val/labels'\n",
    "        os.makedirs(img_path,  exist_ok = True)\n",
    "        os.makedirs(label_path,  exist_ok = True)\n",
    "        move(x, y, img_path, label_path)\n",
    "    elif x.split('_')[0] in test_data:\n",
    "        img_path = f'{base_path}/test/images'\n",
    "        label_path = f'{base_path}/test/labels'\n",
    "        os.makedirs(img_path,  exist_ok = True)\n",
    "        os.makedirs(label_path,  exist_ok = True)\n",
    "        move(x, y, img_path, label_path)\n"
   ]
  },
  {
   "cell_type": "code",
   "execution_count": 41,
   "metadata": {
    "execution": {
     "iopub.execute_input": "2023-12-25T14:13:11.915631Z",
     "iopub.status.busy": "2023-12-25T14:13:11.915189Z",
     "iopub.status.idle": "2023-12-25T14:21:13.450919Z",
     "shell.execute_reply": "2023-12-25T14:21:13.449904Z",
     "shell.execute_reply.started": "2023-12-25T14:13:11.915590Z"
    }
   },
   "outputs": [
    {
     "data": {
      "application/vnd.jupyter.widget-view+json": {
       "model_id": "aab6941bbfe944f8bc29351594b026c5",
       "version_major": 2,
       "version_minor": 0
      },
      "text/plain": [
       "  0%|          | 0/20403 [00:00<?, ?it/s]"
      ]
     },
     "metadata": {},
     "output_type": "display_data"
    },
    {
     "data": {
      "application/vnd.jupyter.widget-view+json": {
       "model_id": "7ad55533f48a4a309c81bd97ca2969aa",
       "version_major": 2,
       "version_minor": 0
      },
      "text/plain": [
       "  0%|          | 0/5830 [00:00<?, ?it/s]"
      ]
     },
     "metadata": {},
     "output_type": "display_data"
    },
    {
     "data": {
      "application/vnd.jupyter.widget-view+json": {
       "model_id": "08e818713aff4239b8e5a2d76a9b60dd",
       "version_major": 2,
       "version_minor": 0
      },
      "text/plain": [
       "  0%|          | 0/2915 [00:00<?, ?it/s]"
      ]
     },
     "metadata": {},
     "output_type": "display_data"
    }
   ],
   "source": [
    "# Splitting data\n",
    "from sklearn.model_selection import train_test_split\n",
    "import shutil\n",
    "\n",
    "base_img_path = f'{base_path}/data/images'\n",
    "segment_path = f'{base_path}/data/new_labels'\n",
    "\n",
    "img_file = os.listdir(base_img_path)\n",
    "segment_file = os.listdir(segment_path)\n",
    "\n",
    "# Sort the list based on the numeric value\n",
    "sorted_img = sorted(img_file, key=lambda x: x[:-4])\n",
    "sorted_segment = sorted(segment_file, key=lambda x: x[:-4])\n",
    "\n",
    "X_train, x_test, y_train, y_test = train_test_split(sorted_img, sorted_segment, test_size=0.2, random_state=42)\n",
    "\n",
    "x_train, x_val, y_train, y_val = train_test_split(X_train, y_train, test_size=1/8, random_state=42)\n",
    "\n",
    "def create_folder(X, Y, set_type):\n",
    "    img_path = f'{base_path}/{set_type}/images'\n",
    "    label_path = f'{base_path}/{set_type}/labels'\n",
    "    os.makedirs(img_path,  exist_ok = True)\n",
    "    os.makedirs(label_path,  exist_ok = True)\n",
    "    for x, y in zip(tqdm(X), Y):\n",
    "        old_x_path = base_img_path+'/'+x\n",
    "        new_x_path = img_path+'/' + x\n",
    "        if os.path.exists(new_x_path):\n",
    "            continue\n",
    "        shutil.copy(old_x_path, new_x_path)\n",
    "\n",
    "        old_y_path = segment_path+'/'+y\n",
    "        new_y_path = label_path+'/' + y\n",
    "        shutil.copy(old_y_path, new_y_path)\n",
    "\n",
    "\n",
    "create_folder(x_train, y_train, 'train')\n",
    "create_folder(x_test, y_test, 'test')\n",
    "create_folder(x_val, y_val, 'val')"
   ]
  },
  {
   "cell_type": "code",
   "execution_count": 33,
   "metadata": {
    "execution": {
     "iopub.execute_input": "2023-12-25T14:22:00.773894Z",
     "iopub.status.busy": "2023-12-25T14:22:00.773485Z",
     "iopub.status.idle": "2023-12-25T14:22:00.779645Z",
     "shell.execute_reply": "2023-12-25T14:22:00.778744Z",
     "shell.execute_reply.started": "2023-12-25T14:22:00.773856Z"
    }
   },
   "outputs": [],
   "source": [
    "with open(f'{base_path}/new_data.yaml', 'w') as data:\n",
    "    data.write(\n",
    "    \"\"\"\n",
    "    #Classes\n",
    "    nc: 9 #num of classes\n",
    "    names: ['liver_healthy', 'liver_low', 'liver_high', 'spleen_healthy', 'spleen_low', 'spleen_high', 'kidney_healthy', 'kidney_low', 'kidney_high']\n",
    "    \n",
    "    path: /storage/student5/minh_chu/Abdominal\n",
    "    test: test/images # test images\n",
    "    train: train/images  # train images\n",
    "    val: val/images # val images\n",
    "    \"\"\")"
   ]
  },
  {
   "cell_type": "code",
   "execution_count": 59,
   "metadata": {
    "execution": {
     "iopub.status.busy": "2023-12-25T12:54:09.662714Z",
     "iopub.status.idle": "2023-12-25T12:54:09.663075Z",
     "shell.execute_reply": "2023-12-25T12:54:09.662930Z",
     "shell.execute_reply.started": "2023-12-25T12:54:09.662914Z"
    },
    "scrolled": true
   },
   "outputs": [
    {
     "name": "stdout",
     "output_type": "stream",
     "text": [
      "New https://pypi.org/project/ultralytics/8.1.6 available 😃 Update with 'pip install -U ultralytics'\n",
      "Ultralytics YOLOv8.0.230 🚀 Python-3.11.5 torch-2.1.2 CUDA:1 (NVIDIA GeForce RTX 3090, 24260MiB)\n",
      "\u001b[34m\u001b[1mengine/trainer: \u001b[0mtask=detect, mode=train, model=yolov8n.pt, data=/storage/student5/minh_chu/Abdominal/new_data.yaml, epochs=50, time=None, patience=50, batch=128, imgsz=640, save=True, save_period=-1, cache=False, device=1, workers=8, project=None, name=train, exist_ok=False, pretrained=True, optimizer=auto, verbose=True, seed=0, deterministic=True, single_cls=False, rect=False, cos_lr=False, close_mosaic=10, resume=False, amp=True, fraction=1.0, profile=False, freeze=None, overlap_mask=True, mask_ratio=4, dropout=0.0, val=True, split=val, save_json=False, save_hybrid=False, conf=None, iou=0.7, max_det=300, half=False, dnn=False, plots=True, source=None, vid_stride=1, stream_buffer=False, visualize=False, augment=False, agnostic_nms=False, classes=None, retina_masks=False, embed=None, show=False, save_frames=False, save_txt=False, save_conf=False, save_crop=False, show_labels=True, show_conf=True, show_boxes=True, line_width=None, format=torchscript, keras=False, optimize=False, int8=False, dynamic=False, simplify=False, opset=None, workspace=4, nms=False, lr0=0.01, lrf=0.01, momentum=0.937, weight_decay=0.0005, warmup_epochs=3.0, warmup_momentum=0.8, warmup_bias_lr=0.1, box=7.5, cls=0.5, dfl=1.5, pose=12.0, kobj=1.0, label_smoothing=0.0, nbs=64, hsv_h=0.015, hsv_s=0.7, hsv_v=0.4, degrees=0.0, translate=0.1, scale=0.5, shear=0.0, perspective=0.0, flipud=0.0, fliplr=0.5, mosaic=1.0, mixup=0.0, copy_paste=0.0, cfg=None, tracker=botsort.yaml, save_dir=runs/detect/train\n",
      "Overriding model.yaml nc=80 with nc=9\n",
      "\n",
      "                   from  n    params  module                                       arguments                     \n",
      "  0                  -1  1       464  ultralytics.nn.modules.conv.Conv             [3, 16, 3, 2]                 \n",
      "  1                  -1  1      4672  ultralytics.nn.modules.conv.Conv             [16, 32, 3, 2]                \n",
      "  2                  -1  1      7360  ultralytics.nn.modules.block.C2f             [32, 32, 1, True]             \n",
      "  3                  -1  1     18560  ultralytics.nn.modules.conv.Conv             [32, 64, 3, 2]                \n",
      "  4                  -1  2     49664  ultralytics.nn.modules.block.C2f             [64, 64, 2, True]             \n",
      "  5                  -1  1     73984  ultralytics.nn.modules.conv.Conv             [64, 128, 3, 2]               \n",
      "  6                  -1  2    197632  ultralytics.nn.modules.block.C2f             [128, 128, 2, True]           \n",
      "  7                  -1  1    295424  ultralytics.nn.modules.conv.Conv             [128, 256, 3, 2]              \n",
      "  8                  -1  1    460288  ultralytics.nn.modules.block.C2f             [256, 256, 1, True]           \n",
      "  9                  -1  1    164608  ultralytics.nn.modules.block.SPPF            [256, 256, 5]                 \n",
      " 10                  -1  1         0  torch.nn.modules.upsampling.Upsample         [None, 2, 'nearest']          \n",
      " 11             [-1, 6]  1         0  ultralytics.nn.modules.conv.Concat           [1]                           \n",
      " 12                  -1  1    148224  ultralytics.nn.modules.block.C2f             [384, 128, 1]                 \n",
      " 13                  -1  1         0  torch.nn.modules.upsampling.Upsample         [None, 2, 'nearest']          \n",
      " 14             [-1, 4]  1         0  ultralytics.nn.modules.conv.Concat           [1]                           \n",
      " 15                  -1  1     37248  ultralytics.nn.modules.block.C2f             [192, 64, 1]                  \n",
      " 16                  -1  1     36992  ultralytics.nn.modules.conv.Conv             [64, 64, 3, 2]                \n",
      " 17            [-1, 12]  1         0  ultralytics.nn.modules.conv.Concat           [1]                           \n",
      " 18                  -1  1    123648  ultralytics.nn.modules.block.C2f             [192, 128, 1]                 \n",
      " 19                  -1  1    147712  ultralytics.nn.modules.conv.Conv             [128, 128, 3, 2]              \n",
      " 20             [-1, 9]  1         0  ultralytics.nn.modules.conv.Concat           [1]                           \n",
      " 21                  -1  1    493056  ultralytics.nn.modules.block.C2f             [384, 256, 1]                 \n",
      " 22        [15, 18, 21]  1    753067  ultralytics.nn.modules.head.Detect           [9, [64, 128, 256]]           \n",
      "Model summary: 225 layers, 3012603 parameters, 3012587 gradients, 8.2 GFLOPs\n",
      "\n",
      "Transferred 319/355 items from pretrained weights\n",
      "Freezing layer 'model.22.dfl.conv.weight'\n",
      "\u001b[34m\u001b[1mAMP: \u001b[0mrunning Automatic Mixed Precision (AMP) checks with YOLOv8n...\n",
      "WARNING ⚠️ NMS time limit 0.550s exceeded\n",
      "\u001b[34m\u001b[1mAMP: \u001b[0mchecks passed ✅\n",
      "\u001b[34m\u001b[1mtrain: \u001b[0mScanning /storage/student5/minh_chu/Abdominal/train/labels... 20850 image\u001b[0m\n",
      "\u001b[34m\u001b[1mtrain: \u001b[0mNew cache created: /storage/student5/minh_chu/Abdominal/train/labels.cache\n",
      "\u001b[34m\u001b[1mval: \u001b[0mScanning /storage/student5/minh_chu/Abdominal/val/labels... 4956 images, 0 \u001b[0m\n",
      "\u001b[34m\u001b[1mval: \u001b[0mNew cache created: /storage/student5/minh_chu/Abdominal/val/labels.cache\n",
      "Plotting labels to runs/detect/train/labels.jpg... \n",
      "\u001b[34m\u001b[1moptimizer:\u001b[0m 'optimizer=auto' found, ignoring 'lr0=0.01' and 'momentum=0.937' and determining best 'optimizer', 'lr0' and 'momentum' automatically... \n",
      "\u001b[34m\u001b[1moptimizer:\u001b[0m AdamW(lr=0.000769, momentum=0.9) with parameter groups 57 weight(decay=0.0), 64 weight(decay=0.001), 63 bias(decay=0.0)\n",
      "50 epochs...\n",
      "\n",
      "      Epoch    GPU_mem   box_loss   cls_loss   dfl_loss  Instances       Size\n",
      "       1/50      18.5G     0.9952      2.717      1.158        455        640: 1\n",
      "                 Class     Images  Instances      Box(P          R      mAP50  m\n",
      "                   all       4956      11759      0.308      0.553      0.343      0.278\n",
      "\n",
      "      Epoch    GPU_mem   box_loss   cls_loss   dfl_loss  Instances       Size\n",
      "       2/50      17.2G     0.7398      1.365      0.993        459        640: 1\n",
      "                 Class     Images  Instances      Box(P          R      mAP50  m\n",
      "                   all       4956      11759      0.354      0.501      0.392      0.323\n",
      "\n",
      "      Epoch    GPU_mem   box_loss   cls_loss   dfl_loss  Instances       Size\n",
      "       3/50      17.3G     0.7015     0.9517     0.9736        432        640: 1\n",
      "                 Class     Images  Instances      Box(P          R      mAP50  m\n",
      "                   all       4956      11759      0.349      0.475      0.374      0.305\n",
      "\n",
      "      Epoch    GPU_mem   box_loss   cls_loss   dfl_loss  Instances       Size\n",
      "       4/50      17.3G     0.6702     0.7503     0.9664        448        640: 1\n",
      "                 Class     Images  Instances      Box(P          R      mAP50  m\n",
      "                   all       4956      11759       0.38      0.462      0.394      0.312\n",
      "\n",
      "      Epoch    GPU_mem   box_loss   cls_loss   dfl_loss  Instances       Size\n",
      "       5/50      17.3G     0.6391     0.6475     0.9515        439        640: 1\n",
      "                 Class     Images  Instances      Box(P          R      mAP50  m\n",
      "                   all       4956      11759      0.401       0.54      0.421      0.341\n",
      "\n",
      "      Epoch    GPU_mem   box_loss   cls_loss   dfl_loss  Instances       Size\n",
      "       6/50      17.3G     0.6101     0.5701     0.9408        398        640: 1\n",
      "                 Class     Images  Instances      Box(P          R      mAP50  m\n",
      "                   all       4956      11759      0.416      0.521      0.424      0.353\n",
      "\n",
      "      Epoch    GPU_mem   box_loss   cls_loss   dfl_loss  Instances       Size\n",
      "       7/50      17.2G     0.5919     0.5238     0.9328        457        640: 1\n",
      "                 Class     Images  Instances      Box(P          R      mAP50  m\n",
      "                   all       4956      11759       0.38      0.506      0.427      0.362\n",
      "\n",
      "      Epoch    GPU_mem   box_loss   cls_loss   dfl_loss  Instances       Size\n",
      "       8/50      17.2G     0.5763     0.4953     0.9279        395        640: 1\n",
      "                 Class     Images  Instances      Box(P          R      mAP50  m\n",
      "                   all       4956      11759      0.408      0.525      0.423      0.356\n"
     ]
    },
    {
     "name": "stdout",
     "output_type": "stream",
     "text": [
      "\n",
      "      Epoch    GPU_mem   box_loss   cls_loss   dfl_loss  Instances       Size\n",
      "       9/50      17.2G      0.563      0.468      0.924        458        640: 1\n",
      "                 Class     Images  Instances      Box(P          R      mAP50  m\n",
      "                   all       4956      11759      0.456      0.562      0.476      0.399\n",
      "\n",
      "      Epoch    GPU_mem   box_loss   cls_loss   dfl_loss  Instances       Size\n",
      "      10/50      17.2G     0.5531     0.4463     0.9176        386        640: 1\n",
      "                 Class     Images  Instances      Box(P          R      mAP50  m\n",
      "                   all       4956      11759      0.421      0.505      0.428      0.366\n",
      "\n",
      "      Epoch    GPU_mem   box_loss   cls_loss   dfl_loss  Instances       Size\n",
      "      11/50      17.2G      0.543     0.4358     0.9156        440        640: 1\n",
      "                 Class     Images  Instances      Box(P          R      mAP50  m\n",
      "                   all       4956      11759      0.399      0.501       0.41      0.346\n",
      "\n",
      "      Epoch    GPU_mem   box_loss   cls_loss   dfl_loss  Instances       Size\n",
      "      12/50      17.3G     0.5323     0.4163     0.9097        429        640: 1\n",
      "                 Class     Images  Instances      Box(P          R      mAP50  m\n",
      "                   all       4956      11759      0.472      0.531      0.459      0.395\n",
      "\n",
      "      Epoch    GPU_mem   box_loss   cls_loss   dfl_loss  Instances       Size\n",
      "      13/50      17.3G     0.5231     0.4031      0.906        412        640: 1\n",
      "                 Class     Images  Instances      Box(P          R      mAP50  m\n",
      "                   all       4956      11759      0.401       0.55      0.433      0.367\n",
      "\n",
      "      Epoch    GPU_mem   box_loss   cls_loss   dfl_loss  Instances       Size\n",
      "      14/50      17.2G     0.5187     0.3964     0.9053        395        640: 1\n",
      "                 Class     Images  Instances      Box(P          R      mAP50  m\n",
      "                   all       4956      11759      0.425      0.478      0.442      0.384\n",
      "\n",
      "      Epoch    GPU_mem   box_loss   cls_loss   dfl_loss  Instances       Size\n",
      "      15/50      17.2G     0.5098     0.3844     0.9035        420        640: 1\n",
      "                 Class     Images  Instances      Box(P          R      mAP50  m\n",
      "                   all       4956      11759      0.413      0.507      0.433      0.368\n",
      "\n",
      "      Epoch    GPU_mem   box_loss   cls_loss   dfl_loss  Instances       Size\n",
      "      16/50      17.3G     0.5056     0.3777     0.8985        481        640: 1\n",
      "                 Class     Images  Instances      Box(P          R      mAP50  m\n",
      "                   all       4956      11759      0.384      0.523      0.418       0.36\n",
      "\n",
      "      Epoch    GPU_mem   box_loss   cls_loss   dfl_loss  Instances       Size\n",
      "      17/50      17.2G     0.5019     0.3693     0.8999        450        640: 1\n",
      "                 Class     Images  Instances      Box(P          R      mAP50  m\n",
      "                   all       4956      11759      0.439      0.546      0.455      0.392\n",
      "\n",
      "      Epoch    GPU_mem   box_loss   cls_loss   dfl_loss  Instances       Size\n",
      "      18/50      17.3G     0.4947      0.364     0.8964        443        640: 1\n",
      "                 Class     Images  Instances      Box(P          R      mAP50  m\n",
      "                   all       4956      11759      0.417      0.538      0.455      0.393\n",
      "\n",
      "      Epoch    GPU_mem   box_loss   cls_loss   dfl_loss  Instances       Size\n",
      "      19/50      17.2G     0.4868     0.3531     0.8937        433        640: 1\n",
      "                 Class     Images  Instances      Box(P          R      mAP50  m\n",
      "                   all       4956      11759      0.413      0.531      0.451       0.39\n",
      "\n",
      "      Epoch    GPU_mem   box_loss   cls_loss   dfl_loss  Instances       Size\n",
      "      20/50      17.3G     0.4813     0.3439     0.8898        449        640: 1\n",
      "                 Class     Images  Instances      Box(P          R      mAP50  m\n",
      "                   all       4956      11759      0.407      0.534      0.445      0.386\n",
      "\n",
      "      Epoch    GPU_mem   box_loss   cls_loss   dfl_loss  Instances       Size\n",
      "      21/50      17.2G      0.478     0.3426     0.8901        416        640: 1\n",
      "                 Class     Images  Instances      Box(P          R      mAP50  m\n",
      "                   all       4956      11759      0.445      0.531      0.464      0.403\n",
      "\n",
      "      Epoch    GPU_mem   box_loss   cls_loss   dfl_loss  Instances       Size\n",
      "      22/50      17.2G     0.4734     0.3367     0.8871        471        640: 1\n",
      "                 Class     Images  Instances      Box(P          R      mAP50  m\n",
      "                   all       4956      11759      0.367      0.515      0.419      0.363\n",
      "\n",
      "      Epoch    GPU_mem   box_loss   cls_loss   dfl_loss  Instances       Size\n",
      "      23/50      17.2G     0.4684     0.3325     0.8857        450        640: 1\n",
      "                 Class     Images  Instances      Box(P          R      mAP50  m\n",
      "                   all       4956      11759      0.455      0.545      0.462      0.401\n",
      "\n",
      "      Epoch    GPU_mem   box_loss   cls_loss   dfl_loss  Instances       Size\n",
      "      24/50      17.2G     0.4673     0.3292     0.8865        441        640: 1\n",
      "                 Class     Images  Instances      Box(P          R      mAP50  m\n",
      "                   all       4956      11759      0.377      0.509      0.417       0.36\n",
      "\n",
      "      Epoch    GPU_mem   box_loss   cls_loss   dfl_loss  Instances       Size\n",
      "      25/50      17.2G     0.4603      0.322     0.8837        443        640: 1\n",
      "                 Class     Images  Instances      Box(P          R      mAP50  m\n",
      "                   all       4956      11759      0.431       0.51      0.436       0.38\n",
      "\n",
      "      Epoch    GPU_mem   box_loss   cls_loss   dfl_loss  Instances       Size\n",
      "      26/50      17.2G     0.4536     0.3152     0.8804        436        640: 1\n",
      "                 Class     Images  Instances      Box(P          R      mAP50  m\n",
      "                   all       4956      11759      0.432      0.519      0.459      0.401\n",
      "\n",
      "      Epoch    GPU_mem   box_loss   cls_loss   dfl_loss  Instances       Size\n",
      "      27/50      17.2G     0.4525     0.3136      0.881        465        640: 1\n",
      "                 Class     Images  Instances      Box(P          R      mAP50  m\n",
      "                   all       4956      11759      0.393      0.535      0.443      0.388\n",
      "\n",
      "      Epoch    GPU_mem   box_loss   cls_loss   dfl_loss  Instances       Size\n",
      "      28/50      17.3G     0.4492     0.3089     0.8798        450        640: 1\n",
      "                 Class     Images  Instances      Box(P          R      mAP50  m\n",
      "                   all       4956      11759      0.429       0.51      0.457      0.399\n",
      "\n",
      "      Epoch    GPU_mem   box_loss   cls_loss   dfl_loss  Instances       Size\n",
      "      29/50      17.2G     0.4436     0.3054     0.8776        465        640: 1\n",
      "                 Class     Images  Instances      Box(P          R      mAP50  m\n",
      "                   all       4956      11759      0.413      0.521      0.444      0.385\n",
      "\n",
      "      Epoch    GPU_mem   box_loss   cls_loss   dfl_loss  Instances       Size\n",
      "      30/50      17.2G     0.4407      0.301     0.8764        466        640: 1\n",
      "                 Class     Images  Instances      Box(P          R      mAP50  m\n",
      "                   all       4956      11759      0.433      0.545      0.457      0.398\n",
      "\n",
      "      Epoch    GPU_mem   box_loss   cls_loss   dfl_loss  Instances       Size\n",
      "      31/50      17.2G     0.4351     0.2965     0.8747        399        640: 1\n",
      "                 Class     Images  Instances      Box(P          R      mAP50  m\n",
      "                   all       4956      11759      0.478      0.504      0.475      0.417\n",
      "\n",
      "      Epoch    GPU_mem   box_loss   cls_loss   dfl_loss  Instances       Size\n",
      "      32/50      17.2G     0.4329     0.2924      0.874        473        640: 1\n",
      "                 Class     Images  Instances      Box(P          R      mAP50  m\n",
      "                   all       4956      11759      0.428      0.544      0.458        0.4\n",
      "\n",
      "      Epoch    GPU_mem   box_loss   cls_loss   dfl_loss  Instances       Size\n",
      "      33/50      17.3G     0.4295     0.2897     0.8738        409        640: 1\n",
      "                 Class     Images  Instances      Box(P          R      mAP50  m\n",
      "                   all       4956      11759      0.442      0.504      0.449      0.391\n"
     ]
    },
    {
     "name": "stdout",
     "output_type": "stream",
     "text": [
      "\n",
      "      Epoch    GPU_mem   box_loss   cls_loss   dfl_loss  Instances       Size\n",
      "      34/50      17.2G     0.4282     0.2869     0.8713        450        640: 1\n",
      "                 Class     Images  Instances      Box(P          R      mAP50  m\n",
      "                   all       4956      11759      0.462      0.507      0.484      0.423\n",
      "\n",
      "      Epoch    GPU_mem   box_loss   cls_loss   dfl_loss  Instances       Size\n",
      "      35/50      17.2G     0.4252     0.2842      0.871        408        640: 1\n",
      "                 Class     Images  Instances      Box(P          R      mAP50  m\n",
      "                   all       4956      11759      0.439       0.55      0.485      0.424\n",
      "\n",
      "      Epoch    GPU_mem   box_loss   cls_loss   dfl_loss  Instances       Size\n",
      "      36/50      17.3G     0.4193     0.2803     0.8689        431        640: 1\n",
      "                 Class     Images  Instances      Box(P          R      mAP50  m\n",
      "                   all       4956      11759       0.43      0.524      0.451      0.394\n",
      "\n",
      "      Epoch    GPU_mem   box_loss   cls_loss   dfl_loss  Instances       Size\n",
      "      37/50      17.2G     0.4166     0.2751      0.868        405        640: 1\n",
      "                 Class     Images  Instances      Box(P          R      mAP50  m\n",
      "                   all       4956      11759      0.441      0.537      0.461      0.403\n",
      "\n",
      "      Epoch    GPU_mem   box_loss   cls_loss   dfl_loss  Instances       Size\n",
      "      38/50      17.3G     0.4131     0.2725     0.8656        424        640: 1\n",
      "                 Class     Images  Instances      Box(P          R      mAP50  m\n",
      "                   all       4956      11759      0.456      0.491      0.458        0.4\n",
      "\n",
      "      Epoch    GPU_mem   box_loss   cls_loss   dfl_loss  Instances       Size\n",
      "      39/50      17.2G     0.4115     0.2704      0.866        384        640: 1\n",
      "                 Class     Images  Instances      Box(P          R      mAP50  m\n",
      "                   all       4956      11759       0.43      0.521      0.466      0.408\n",
      "\n",
      "      Epoch    GPU_mem   box_loss   cls_loss   dfl_loss  Instances       Size\n",
      "      40/50      17.2G     0.4046     0.2656     0.8634        427        640: 1\n",
      "                 Class     Images  Instances      Box(P          R      mAP50  m\n",
      "                   all       4956      11759      0.433      0.529      0.454        0.4\n",
      "Closing dataloader mosaic\n",
      "\n",
      "      Epoch    GPU_mem   box_loss   cls_loss   dfl_loss  Instances       Size\n",
      "      41/50      18.4G     0.3406     0.2105     0.8106        257        640: 1\n",
      "                 Class     Images  Instances      Box(P          R      mAP50  m\n",
      "                   all       4956      11759      0.399      0.515      0.429      0.377\n",
      "\n",
      "      Epoch    GPU_mem   box_loss   cls_loss   dfl_loss  Instances       Size\n",
      "      42/50      17.1G     0.3322     0.2046     0.8086        260        640: 1\n",
      "                 Class     Images  Instances      Box(P          R      mAP50  m\n",
      "                   all       4956      11759      0.422      0.518      0.447      0.392\n",
      "\n",
      "      Epoch    GPU_mem   box_loss   cls_loss   dfl_loss  Instances       Size\n",
      "      43/50      17.1G     0.3258     0.1998     0.8065        286        640: 1\n",
      "                 Class     Images  Instances      Box(P          R      mAP50  m\n",
      "                   all       4956      11759      0.411      0.539      0.452      0.395\n",
      "\n",
      "      Epoch    GPU_mem   box_loss   cls_loss   dfl_loss  Instances       Size\n",
      "      44/50      17.1G      0.322     0.1967     0.8045        277        640: 1\n",
      "                 Class     Images  Instances      Box(P          R      mAP50  m\n",
      "                   all       4956      11759      0.414      0.509      0.444       0.39\n",
      "\n",
      "      Epoch    GPU_mem   box_loss   cls_loss   dfl_loss  Instances       Size\n",
      "      45/50      17.1G     0.3177     0.1926     0.8025        271        640: 1\n",
      "                 Class     Images  Instances      Box(P          R      mAP50  m\n",
      "                   all       4956      11759      0.412       0.55      0.475      0.419\n",
      "\n",
      "      Epoch    GPU_mem   box_loss   cls_loss   dfl_loss  Instances       Size\n",
      "      46/50      17.1G     0.3154      0.191     0.8025        260        640: 1\n",
      "                 Class     Images  Instances      Box(P          R      mAP50  m\n",
      "                   all       4956      11759      0.409       0.55      0.468      0.413\n",
      "\n",
      "      Epoch    GPU_mem   box_loss   cls_loss   dfl_loss  Instances       Size\n",
      "      47/50      17.1G     0.3099     0.1875      0.802        274        640: 1\n",
      "                 Class     Images  Instances      Box(P          R      mAP50  m\n",
      "                   all       4956      11759      0.417      0.517      0.459      0.403\n",
      "\n",
      "      Epoch    GPU_mem   box_loss   cls_loss   dfl_loss  Instances       Size\n",
      "      48/50      17.1G     0.3077     0.1844        0.8        269        640: 1\n",
      "                 Class     Images  Instances      Box(P          R      mAP50  m\n",
      "                   all       4956      11759      0.414      0.496      0.447      0.392\n",
      "\n",
      "      Epoch    GPU_mem   box_loss   cls_loss   dfl_loss  Instances       Size\n",
      "      49/50      17.1G     0.3034     0.1815     0.7976        285        640: 1\n",
      "                 Class     Images  Instances      Box(P          R      mAP50  m\n",
      "                   all       4956      11759      0.409      0.517      0.454      0.398\n",
      "\n",
      "      Epoch    GPU_mem   box_loss   cls_loss   dfl_loss  Instances       Size\n",
      "      50/50      17.1G     0.2996     0.1793     0.7955        272        640: 1\n",
      "                 Class     Images  Instances      Box(P          R      mAP50  m\n",
      "                   all       4956      11759      0.407      0.528      0.453      0.396\n",
      "\n",
      "50 epochs completed in 1.808 hours.\n",
      "Optimizer stripped from runs/detect/train/weights/last.pt, 6.3MB\n",
      "Optimizer stripped from runs/detect/train/weights/best.pt, 6.3MB\n",
      "\n",
      "Validating runs/detect/train/weights/best.pt...\n",
      "Ultralytics YOLOv8.0.230 🚀 Python-3.11.5 torch-2.1.2 CUDA:1 (NVIDIA GeForce RTX 3090, 24260MiB)\n",
      "Model summary (fused): 168 layers, 3007403 parameters, 0 gradients, 8.1 GFLOPs\n",
      "                 Class     Images  Instances      Box(P          R      mAP50  m\n",
      "                   all       4956      11759       0.44      0.549      0.485      0.424\n",
      "         liver_healthy       4956       1832      0.596      0.827      0.679       0.59\n",
      "             liver_low       4956       2075      0.579      0.727      0.654      0.558\n",
      "            liver_high       4956        509      0.017    0.00589     0.0403     0.0336\n",
      "        spleen_healthy       4956       2911      0.697      0.835      0.799      0.745\n",
      "            spleen_low       4956        638      0.423      0.458      0.384      0.311\n",
      "           spleen_high       4956       1274      0.553      0.601      0.555      0.394\n",
      "        kidney_healthy       4956       1362      0.535       0.72      0.578      0.548\n",
      "            kidney_low       4956        712      0.268      0.239       0.22      0.205\n",
      "           kidney_high       4956        446      0.287      0.527      0.455       0.43\n",
      "Speed: 0.2ms preprocess, 0.6ms inference, 0.0ms loss, 1.2ms postprocess per image\n",
      "Results saved to \u001b[1mruns/detect/train\u001b[0m\n",
      "💡 Learn more at https://docs.ultralytics.com/modes/train\n"
     ]
    }
   ],
   "source": [
    "#yolov8n(nano version for testing)\n",
    "!yolo task=detect mode=train model=yolov8n.pt data='/storage/student5/minh_chu/Abdominal/new_data.yaml' epochs=50 device=1 batch=128"
   ]
  },
  {
   "cell_type": "code",
   "execution_count": null,
   "metadata": {},
   "outputs": [],
   "source": [
    "with torch.cuda.device('cuda:1'):\n",
    "    torch.cuda.empty_cache()"
   ]
  },
  {
   "cell_type": "code",
   "execution_count": null,
   "metadata": {},
   "outputs": [],
   "source": [
    "import zipfile\n",
    "import os\n",
    "\n",
    "def zip_folder(folder_path, zip_path):\n",
    "    with zipfile.ZipFile(zip_path, 'w', zipfile.ZIP_DEFLATED) as zipf:\n",
    "        for root, _, files in os.walk(folder_path):\n",
    "            for file in tqdm(files):\n",
    "                file_path = os.path.join(root, file)\n",
    "                zipf.write(file_path, os.path.relpath(file_path, folder_path))\n",
    "\n",
    "# Specify the folder path and the path for the resulting ZIP file\n",
    "folder_path = '/storage/student5/minh_chu/Abdominal/train'\n",
    "zip_path = '/home/student5/minh_chu/train.zip'\n",
    "\n",
    "# Call the function\n",
    "zip_folder(folder_path, zip_path)"
   ]
  },
  {
   "cell_type": "code",
   "execution_count": 62,
   "metadata": {
    "execution": {
     "iopub.execute_input": "2023-12-25T14:22:02.559636Z",
     "iopub.status.busy": "2023-12-25T14:22:02.558761Z",
     "iopub.status.idle": "2023-12-25T14:22:41.528264Z",
     "shell.execute_reply": "2023-12-25T14:22:41.526479Z",
     "shell.execute_reply.started": "2023-12-25T14:22:02.559602Z"
    }
   },
   "outputs": [
    {
     "name": "stdout",
     "output_type": "stream",
     "text": [
      "Ultralytics YOLOv8.0.230 🚀 Python-3.11.5 torch-2.1.2 CUDA:1 (NVIDIA GeForce RTX 3090, 24260MiB)\n",
      "Model summary (fused): 168 layers, 3007403 parameters, 0 gradients, 8.1 GFLOPs\n",
      "\u001b[34m\u001b[1mval: \u001b[0mScanning /storage/student5/minh_chu/Abdominal/val/labels.cache... 4956 imag\u001b[0m\n",
      "                 Class     Images  Instances      Box(P          R      mAP50  m\n",
      "                   all       4956      11759      0.438       0.55      0.484      0.424\n",
      "         liver_healthy       4956       1832      0.594      0.829      0.678      0.589\n",
      "             liver_low       4956       2075      0.579      0.728      0.654      0.557\n",
      "            liver_high       4956        509     0.0222    0.00786     0.0406     0.0339\n",
      "        spleen_healthy       4956       2911      0.696      0.836      0.799      0.745\n",
      "            spleen_low       4956        638      0.423      0.461      0.383      0.311\n",
      "           spleen_high       4956       1274      0.547      0.603      0.554      0.394\n",
      "        kidney_healthy       4956       1362      0.534       0.72      0.578      0.549\n",
      "            kidney_low       4956        712      0.268       0.24       0.22      0.205\n",
      "           kidney_high       4956        446      0.282      0.525      0.454      0.431\n",
      "Speed: 0.2ms preprocess, 1.3ms inference, 0.0ms loss, 0.8ms postprocess per image\n",
      "Results saved to \u001b[1mruns/detect/val\u001b[0m\n",
      "💡 Learn more at https://docs.ultralytics.com/modes/val\n"
     ]
    }
   ],
   "source": [
    "!yolo task=detect mode=val model='/home/student5/minh_chu/runs/detect/train/weights/best.pt' data='/storage/student5/minh_chu/Abdominal/new_data.yaml' plots = True device=1 save = True"
   ]
  },
  {
   "cell_type": "code",
   "execution_count": 63,
   "metadata": {
    "execution": {
     "iopub.execute_input": "2023-12-25T14:22:44.923692Z",
     "iopub.status.busy": "2023-12-25T14:22:44.922806Z",
     "iopub.status.idle": "2023-12-25T14:22:44.928248Z",
     "shell.execute_reply": "2023-12-25T14:22:44.927217Z",
     "shell.execute_reply.started": "2023-12-25T14:22:44.923656Z"
    }
   },
   "outputs": [],
   "source": [
    "from IPython.display import display, Image"
   ]
  },
  {
   "cell_type": "markdown",
   "metadata": {},
   "source": [
    "## Validation"
   ]
  },
  {
   "cell_type": "code",
   "execution_count": null,
   "metadata": {
    "execution": {
     "iopub.execute_input": "2023-12-25T14:23:02.440355Z",
     "iopub.status.busy": "2023-12-25T14:23:02.439976Z",
     "iopub.status.idle": "2023-12-25T14:23:02.444650Z",
     "shell.execute_reply": "2023-12-25T14:23:02.443690Z",
     "shell.execute_reply.started": "2023-12-25T14:23:02.440324Z"
    }
   },
   "outputs": [],
   "source": [
    "val_path = '/kaggle/working/runs/detect/val/'"
   ]
  },
  {
   "cell_type": "code",
   "execution_count": null,
   "metadata": {
    "execution": {
     "iopub.execute_input": "2023-12-25T14:28:04.191347Z",
     "iopub.status.busy": "2023-12-25T14:28:04.190627Z",
     "iopub.status.idle": "2023-12-25T14:28:05.177075Z",
     "shell.execute_reply": "2023-12-25T14:28:05.176088Z",
     "shell.execute_reply.started": "2023-12-25T14:28:04.191312Z"
    }
   },
   "outputs": [],
   "source": [
    "# Image(filename=val_path+'R_curve.png', width=600)\n",
    "plt.imshow(cv2.imread(val_path+'R_curve.png'))\n",
    "plt.axis('off')\n",
    "plt.savefig('/kaggle/working/R_curve.png')"
   ]
  },
  {
   "cell_type": "code",
   "execution_count": null,
   "metadata": {
    "execution": {
     "iopub.execute_input": "2023-12-25T14:28:19.450487Z",
     "iopub.status.busy": "2023-12-25T14:28:19.449646Z",
     "iopub.status.idle": "2023-12-25T14:28:20.431449Z",
     "shell.execute_reply": "2023-12-25T14:28:20.430476Z",
     "shell.execute_reply.started": "2023-12-25T14:28:19.450453Z"
    }
   },
   "outputs": [],
   "source": [
    "plt.imshow(cv2.imread(val_path+'P_curve.png'))\n",
    "plt.axis('off')\n",
    "plt.savefig('/kaggle/working/P_curve.png')"
   ]
  },
  {
   "cell_type": "code",
   "execution_count": null,
   "metadata": {
    "execution": {
     "iopub.execute_input": "2023-12-25T14:28:27.320165Z",
     "iopub.status.busy": "2023-12-25T14:28:27.319679Z",
     "iopub.status.idle": "2023-12-25T14:28:28.292912Z",
     "shell.execute_reply": "2023-12-25T14:28:28.292001Z",
     "shell.execute_reply.started": "2023-12-25T14:28:27.320119Z"
    }
   },
   "outputs": [],
   "source": [
    "plt.imshow(cv2.imread(val_path+'PR_curve.png'))\n",
    "plt.axis('off')\n",
    "plt.savefig('/kaggle/working/PR_curve.png')"
   ]
  },
  {
   "cell_type": "code",
   "execution_count": null,
   "metadata": {
    "execution": {
     "iopub.execute_input": "2023-12-25T14:28:34.967985Z",
     "iopub.status.busy": "2023-12-25T14:28:34.967222Z",
     "iopub.status.idle": "2023-12-25T14:28:35.894598Z",
     "shell.execute_reply": "2023-12-25T14:28:35.893626Z",
     "shell.execute_reply.started": "2023-12-25T14:28:34.967952Z"
    }
   },
   "outputs": [],
   "source": [
    "plt.imshow(cv2.imread(val_path+'F1_curve.png'))\n",
    "plt.axis('off')\n",
    "plt.savefig('/kaggle/working/F1_curve.png')"
   ]
  },
  {
   "cell_type": "code",
   "execution_count": null,
   "metadata": {
    "execution": {
     "iopub.execute_input": "2023-12-25T14:28:52.304408Z",
     "iopub.status.busy": "2023-12-25T14:28:52.303695Z",
     "iopub.status.idle": "2023-12-25T14:28:54.026954Z",
     "shell.execute_reply": "2023-12-25T14:28:54.026020Z",
     "shell.execute_reply.started": "2023-12-25T14:28:52.304377Z"
    }
   },
   "outputs": [],
   "source": [
    "plt.imshow(cv2.imread(val_path+'confusion_matrix_normalized.png'))\n",
    "plt.axis('off')\n",
    "plt.savefig('/kaggle/working/confusion_matrix_normalized.png')"
   ]
  },
  {
   "cell_type": "code",
   "execution_count": null,
   "metadata": {
    "execution": {
     "iopub.execute_input": "2023-12-25T14:23:03.225392Z",
     "iopub.status.busy": "2023-12-25T14:23:03.224655Z",
     "iopub.status.idle": "2023-12-25T14:23:03.247568Z",
     "shell.execute_reply": "2023-12-25T14:23:03.246692Z",
     "shell.execute_reply.started": "2023-12-25T14:23:03.225362Z"
    }
   },
   "outputs": [],
   "source": [
    "Image(filename=val_path+'val_batch1_pred.jpg', width=600)"
   ]
  },
  {
   "cell_type": "markdown",
   "metadata": {},
   "source": [
    "## Inference"
   ]
  },
  {
   "cell_type": "code",
   "execution_count": null,
   "metadata": {
    "execution": {
     "iopub.execute_input": "2023-11-23T08:06:22.134703Z",
     "iopub.status.busy": "2023-11-23T08:06:22.133803Z",
     "iopub.status.idle": "2023-11-23T08:08:25.455786Z",
     "shell.execute_reply": "2023-11-23T08:08:25.454795Z",
     "shell.execute_reply.started": "2023-11-23T08:06:22.134669Z"
    }
   },
   "outputs": [],
   "source": [
    "# !yolo task=detect mode=predict model='/kaggle/working/runs/detect/train/weights/best.pt' conf=0.45 source='/kaggle/working/test/images/*.jpg' save=True save_txt=True line_thickness=1 #hide_labels=True\n",
    "model = YOLO('/kaggle/working/runs/detect/train/weights/best.pt')\n",
    "results = model.predict(source='/kaggle/working/test/images/*.jpg', conf=0.45, save=True, save_txt=True, verbose=False)"
   ]
  },
  {
   "cell_type": "code",
   "execution_count": null,
   "metadata": {
    "execution": {
     "iopub.execute_input": "2023-12-27T16:08:44.527323Z",
     "iopub.status.busy": "2023-12-27T16:08:44.526768Z",
     "iopub.status.idle": "2023-12-27T16:31:51.247648Z",
     "shell.execute_reply": "2023-12-27T16:31:51.246619Z",
     "shell.execute_reply.started": "2023-12-27T16:08:44.527286Z"
    }
   },
   "outputs": [],
   "source": [
    "import pydicom\n",
    "from tqdm import tqdm\n",
    "class Data(Dataset):\n",
    "    def __init__(self, csv_file, organ):\n",
    "        self.data = pd.read_csv(csv_file)\n",
    "        self.labels = self.data[organ]\n",
    "        self.img_paths = self.data['image_path']\n",
    "    def __len__(self):\n",
    "        return len(self.labels)\n",
    "    def __getitem__(self, idx):\n",
    "        dcm_data = pydicom.dcmread(self.img_paths[idx])\n",
    "        image = dcm_data.pixel_array.astype(np.uint8)\n",
    "        image = cv2.resize(image, (512, 512), interpolation=cv2.INTER_AREA)\n",
    "        image = np.moveaxis([image]*3, 0, 2)\n",
    "        \n",
    "        return image, self.labels[idx], self.data['patient_id'][idx], self.data['series_id'][idx], self.img_paths[idx]\n",
    "data = Data('/kaggle/input/balance-dataset/final_kidney.csv', 'kidney')\n",
    "dataloader = DataLoader(data, batch_size=512, num_workers=4)\n",
    "\n",
    "\n",
    "save_path = '/kaggle/working'\n",
    "model = YOLO('/kaggle/input/yolov8n-50-epochs-with-default-params/best_50_23_11_2023.pt')\n",
    "image_path = '/kaggle/input/rsna-2023-abdominal-trauma-detection/train_images'\n",
    "\n",
    "organ_dict = {'right kidney' : {'img_path':[], 'conf':[], 'label':[]},\n",
    "        'left kidney' : {'img_path':[], 'conf':[], 'label':[]},\n",
    "        'spleen' : {'img_path':[], 'conf':[], 'label':[]},\n",
    "        'liver' : {'img_path':[], 'conf':[], 'label':[]}}\n",
    "\n",
    "names =  ['liver','spleen', 'left kidney','right kidney']\n",
    "target_organ = 'right kidney'\n",
    "df = pd.read_csv(f'/kaggle/input/balance-dataset/final_kidney.csv')\n",
    "\n",
    "# for i, path in enumerate(tqdm(df['image_path'])):\n",
    "for images, labels, patient_ids, series_ids, paths in tqdm(dataloader):\n",
    "    new_images = [image for image in images.numpy()]\n",
    "    images = new_images\n",
    "#     dcm_data = pydicom.dcmread(path)\n",
    "#     # Extract the pixel data\n",
    "#     image = np.moveaxis(np.stack([dcm_data.pixel_array.astype(np.uint8)]*3),0, 2)\n",
    "    target = names.index(target_organ)\n",
    "    resultses = model(images, classes = target, conf=0.25, verbose=False)\n",
    "    \n",
    "    for results, image, label, patient_id, series_id, path in zip(resultses, images, labels, patient_ids, series_ids, paths):\n",
    "        prev_conf = 0\n",
    "        if len(results) != 0:\n",
    "            for result in results:\n",
    "                klass = result.boxes.cls.item()\n",
    "                conf = result.boxes.conf.item()\n",
    "                if conf > prev_conf: \n",
    "                    prev_conf = conf\n",
    "                    x1, y1, x2, y2 = result.boxes.xyxy.cpu().numpy()[0]\n",
    "                    x1, y1, x2, y2 = int(x1), int(y1), int(x2), int(y2)\n",
    "\n",
    "            instance = path.split('/')[-1][:-4]\n",
    "            os.makedirs(f'{save_path}/{target_organ}/{patient_id}_{series_id}', exist_ok=True)\n",
    "            crop=image[y1:y2, x1:x2]\n",
    "            img_path = f'{save_path}/{target_organ}/{patient_id}_{series_id}/{instance}.jpg'\n",
    "            organ_dict[target_organ]['img_path'].append(f'/{target_organ}/{patient_id}_{series_id}/{instance}.jpg')\n",
    "            organ_dict[target_organ]['conf'].append(round(conf, 5))\n",
    "            organ_dict[target_organ]['label'].append(label)\n",
    "#             if os.path.isfile(img_path):\n",
    "#                 continue\n",
    "            cv2.imwrite(img_path, crop)\n",
    "        \n",
    "csv = pd.DataFrame(organ_dict[target_organ]).to_csv(save_path+'/right kidney/right_kidney.csv')         \n",
    "    "
   ]
  },
  {
   "cell_type": "code",
   "execution_count": null,
   "metadata": {},
   "outputs": [],
   "source": [
    "import pydicom\n",
    "from tqdm import tqdm\n",
    "class Data(Dataset):\n",
    "    def __init__(self, csv_file, organ):\n",
    "        self.data = pd.read_csv(csv_file)\n",
    "        self.labels = self.data[organ]\n",
    "        self.img_paths = self.data['image_path']\n",
    "    def __len__(self):\n",
    "        return len(self.labels)\n",
    "    def __getitem__(self, idx):\n",
    "        dcm_data = pydicom.dcmread(self.img_paths[idx])\n",
    "        image = dcm_data.pixel_array.astype(np.uint8)\n",
    "        image = cv2.resize(image, (512, 512), interpolation=cv2.INTER_AREA)\n",
    "        image = np.moveaxis([image]*3, 0, 2)\n",
    "        \n",
    "        return image, self.labels[idx], self.data['patient_id'][idx], self.data['series_id'][idx], self.img_paths[idx]\n",
    "data = Data('/kaggle/input/balance-dataset/final_kidney.csv', 'kidney')\n",
    "dataloader = DataLoader(data, batch_size=512, num_workers=4)\n",
    "\n",
    "\n",
    "save_path = '/kaggle/working'\n",
    "model = YOLO('/kaggle/input/yolov8n-50-epochs-with-default-params/best_50_23_11_2023.pt')\n",
    "image_path = '/kaggle/input/rsna-2023-abdominal-trauma-detection/train_images'\n",
    "\n",
    "organ_dict = {'right kidney' : {'img_path':[], 'conf':[], 'label':[]},\n",
    "        'left kidney' : {'img_path':[], 'conf':[], 'label':[]},\n",
    "        'spleen' : {'img_path':[], 'conf':[], 'label':[]},\n",
    "        'liver' : {'img_path':[], 'conf':[], 'label':[]}}\n",
    "\n",
    "names =  ['liver','spleen', 'left kidney','right kidney']\n",
    "target_organ = 'right kidney'\n",
    "df = pd.read_csv(f'/kaggle/input/balance-dataset/final_kidney.csv')\n",
    "\n",
    "# for i, path in enumerate(tqdm(df['image_path'])):\n",
    "for images, labels, patient_ids, series_ids, paths in tqdm(dataloader):\n",
    "    new_images = [image for image in images.numpy()]\n",
    "    images = new_images\n",
    "#     dcm_data = pydicom.dcmread(path)\n",
    "#     # Extract the pixel data\n",
    "#     image = np.moveaxis(np.stack([dcm_data.pixel_array.astype(np.uint8)]*3),0, 2)\n",
    "    target = names.index(target_organ)\n",
    "    resultses = model(images, classes = target, conf=0.25, verbose=False)\n",
    "    \n",
    "    for results, image, label, patient_id, series_id, path in zip(resultses, images, labels, patient_ids, series_ids, paths):\n",
    "        prev_conf = 0\n",
    "        if len(results) != 0:\n",
    "            for result in results:\n",
    "                klass = result.boxes.cls.item()\n",
    "                conf = result.boxes.conf.item()\n",
    "                if conf > prev_conf: \n",
    "                    prev_conf = conf\n",
    "                    x1, y1, x2, y2 = result.boxes.xyxy.cpu().numpy()[0]\n",
    "                    x1, y1, x2, y2 = int(x1), int(y1), int(x2), int(y2)\n",
    "\n",
    "            instance = path.split('/')[-1][:-4]\n",
    "            os.makedirs(f'{save_path}/{target_organ}/{patient_id}_{series_id}', exist_ok=True)\n",
    "            crop=image[y1:y2, x1:x2]\n",
    "            img_path = f'{save_path}/{target_organ}/{patient_id}_{series_id}/{instance}.jpg'\n",
    "            organ_dict[target_organ]['img_path'].append(f'/{target_organ}/{patient_id}_{series_id}/{instance}.jpg')\n",
    "            organ_dict[target_organ]['conf'].append(round(conf, 5))\n",
    "            organ_dict[target_organ]['label'].append(label)\n",
    "#             if os.path.isfile(img_path):\n",
    "#                 continue\n",
    "            cv2.imwrite(img_path, crop)\n",
    "        \n",
    "csv = pd.DataFrame(organ_dict[target_organ]).to_csv(save_path+'/right kidney/right_kidney.csv')      "
   ]
  },
  {
   "cell_type": "code",
   "execution_count": null,
   "metadata": {
    "execution": {
     "iopub.execute_input": "2023-12-23T09:48:53.375473Z",
     "iopub.status.busy": "2023-12-23T09:48:53.374412Z",
     "iopub.status.idle": "2023-12-23T09:48:53.764264Z",
     "shell.execute_reply": "2023-12-23T09:48:53.763462Z",
     "shell.execute_reply.started": "2023-12-23T09:48:53.375429Z"
    }
   },
   "outputs": [],
   "source": [
    "right_csv = pd.DataFrame(organ_dict['right kidney']).to_csv('/kaggle/working/right_k.csv')\n",
    "left_csv = pd.DataFrame(organ_dict['left kidney']).to_csv('/kaggle/working/left_k.csv')\n",
    "spleen_csv = pd.DataFrame(organ_dict['spleen']).to_csv('/kaggle/working/spleen.csv')\n",
    "liver_csv = pd.DataFrame(organ_dict['liver']).to_csv('/kaggle/working/liver_k.csv')"
   ]
  },
  {
   "cell_type": "markdown",
   "metadata": {},
   "source": [
    "## Trainning classification"
   ]
  },
  {
   "cell_type": "code",
   "execution_count": 31,
   "metadata": {},
   "outputs": [],
   "source": [
    "import shutil\n",
    "\n",
    "def yolo_folder(organ):\n",
    "    df = pd.read_csv(f'{base_path}/{organ}/{organ}.csv')\n",
    "    os.makedirs(f'{base_path}/{organ}_healthy', exist_ok=True)\n",
    "    os.makedirs(f'{base_path}/{organ}_low', exist_ok=True)\n",
    "    os.makedirs(f'{base_path}/{organ}_high', exist_ok=True)\n",
    "\n",
    "\n",
    "    for i in tqdm(range(len(df))):\n",
    "        patient_series = df.iloc[i]['img_path'].split('/')[2]\n",
    "        img_name = df.iloc[i]['img_path'].split('/')[-1]\n",
    "        label = df.iloc[i]['label']\n",
    "        if label == 0:\n",
    "            shutil.copy(f'{base_path}/{organ}/{patient_series}/{img_name}', f'{base_path}/{organ}_healthy/{patient_series}_{img_name}')\n",
    "        elif label == 1:\n",
    "            shutil.copy(f'{base_path}/{organ}/{patient_series}/{img_name}', f'{base_path}/{organ}_low/{patient_series}_{img_name}')\n",
    "        elif label == 2:\n",
    "            shutil.copy(f'{base_path}/{organ}/{patient_series}/{img_name}', f'{base_path}/{organ}_high/{patient_series}_{img_name}')\n",
    "\n"
   ]
  },
  {
   "cell_type": "code",
   "execution_count": null,
   "metadata": {},
   "outputs": [],
   "source": [
    "yolo_folder('liver')"
   ]
  },
  {
   "cell_type": "code",
   "execution_count": null,
   "metadata": {
    "scrolled": true
   },
   "outputs": [],
   "source": [
    "yolo_folder('spleen')\n"
   ]
  },
  {
   "cell_type": "code",
   "execution_count": 32,
   "metadata": {},
   "outputs": [
    {
     "data": {
      "application/vnd.jupyter.widget-view+json": {
       "model_id": "b1de923d816f4e088e0b4d01e72de21f",
       "version_major": 2,
       "version_minor": 0
      },
      "text/plain": [
       "  0%|          | 0/31776 [00:00<?, ?it/s]"
      ]
     },
     "metadata": {},
     "output_type": "display_data"
    },
    {
     "data": {
      "application/vnd.jupyter.widget-view+json": {
       "model_id": "4505954eac9a44b89cda4101d0b5ada3",
       "version_major": 2,
       "version_minor": 0
      },
      "text/plain": [
       "  0%|          | 0/32080 [00:00<?, ?it/s]"
      ]
     },
     "metadata": {},
     "output_type": "display_data"
    }
   ],
   "source": [
    "yolo_folder('left_kidney')\n",
    "yolo_folder('right_kidney')"
   ]
  },
  {
   "cell_type": "code",
   "execution_count": null,
   "metadata": {},
   "outputs": [],
   "source": [
    "class RandomCutout(object):\n",
    "    def __init__(self, height_factor=0.2, width_factor=0.2):\n",
    "        self.height_factor = height_factor\n",
    "        self.width_factor = width_factor\n",
    "\n",
    "    def __call__(self, image):\n",
    "        img_width =  image.size()[1]\n",
    "        img_height = image.size()[2]\n",
    "\n",
    "        cutout_height = int(img_height * self.height_factor)\n",
    "        cutout_width = int(img_width * self.width_factor)\n",
    "\n",
    "        top = torch.randint(low = 0, high = img_height - cutout_height, size = (1,))\n",
    "        left = torch.randint(low = 0, high = img_width - cutout_width, size = (1,))\n",
    "        bottom = top + cutout_height\n",
    "        right = left + cutout_width\n",
    "\n",
    "        if not isinstance(image, torch.Tensor):\n",
    "            image = transforms.functional.to_tensor(image)\n",
    "        image[:, top:bottom, left:right] = 0.0\n",
    "\n",
    "        return transforms.functional.to_pil_image(image)"
   ]
  },
  {
   "cell_type": "code",
   "execution_count": 2,
   "metadata": {},
   "outputs": [],
   "source": [
    "import polars as pl\n",
    "class CustomImageDataset(Dataset):\n",
    "    def __init__(self, path, organ, set_type):\n",
    "        self.organ = organ\n",
    "        df = pl.read_csv(f'{path}/{organ}.csv')\n",
    "        df = df[:, -3:]\n",
    "        df = df.with_columns(\n",
    "            pl.col('img_path').str.split('/').list.get(2).alias('img_series')\n",
    "        ).group_by('img_series').all()\n",
    "        \n",
    "        \n",
    "        if set_type == 'train':\n",
    "            self.df = df[:int(len(df)*0.7)]\n",
    "        else:\n",
    "            self.df = df[int(len(df)*0.7):int(len(df)*0.9)]  \n",
    "        self.df = self.df.explode('img_path', 'conf', 'label')\n",
    "        \n",
    "    def __len__(self):\n",
    "        return len(self.df)\n",
    "    \n",
    "    def __getitem__(self, idx):\n",
    "        label = self.df['label'][idx]\n",
    "        image = Image.open(f\"{base_path}/{self.organ}/{self.df['img_path'][idx].split('/', 2)[-1]}\")\n",
    "#         labeldf = self.df[self.df['img_path'] == self.images_path[idx]]['label']\n",
    "#         image_series = [Image.open(f'{self.path}/{self.patient_series_files[idx]}/{slice}') for slice in slice_files]\n",
    "        process = transforms.Compose(\n",
    "            [\n",
    "                transforms.Resize(256), # For restnet50\n",
    "                transforms.CenterCrop(224),  # For restnet50\n",
    "#                 transforms.Resize(342), # For inceptionv3\n",
    "#                 transforms.CenterCrop(299), # For inceptionv3\n",
    "                transforms.ToTensor(),\n",
    "                transforms.Normalize(mean=[0.485, 0.456, 0.406], std=[0.229, 0.224, 0.225]),\n",
    "            ]\n",
    "        )\n",
    "        \n",
    "        input_tensor = process(image)\n",
    "        return input_tensor, torch.tensor(label)"
   ]
  },
  {
   "cell_type": "code",
   "execution_count": 3,
   "metadata": {},
   "outputs": [],
   "source": [
    "class TestImageDataset(Dataset):\n",
    "    def __init__(self, path, organ):\n",
    "        self.organ = organ\n",
    "        df = pl.read_csv(f'{path}/{organ}.csv')\n",
    "        df = df[:, -3:]\n",
    "        df = df.with_columns(\n",
    "            pl.col('img_path').str.split('/').list.get(2).alias('img_series')\n",
    "        ).group_by('img_series').all()\n",
    "\n",
    "        self.df = df[int(len(df)*0.9):]\n",
    "    \n",
    "    def __len__(self):\n",
    "        return len(self.df)\n",
    "    \n",
    "    def __getitem__(self, idx):\n",
    "        label = self.df['label'][idx][0]\n",
    "        slices = self.df[\"img_path\"][idx].to_list()\n",
    "        image_series = [\n",
    "            Image.open(f\"{base_path}/{self.organ}/{image_path.split('/', 2)[-1]}\")\n",
    "        for image_path in slices]\n",
    "#         labeldf = self.df[self.df['img_path'] == self.images_path[idx]]['label']\n",
    "\n",
    "#         image_series = [Image.open(f'{self.path}/{self.patient_series_files[idx]}/{slice}') for slice in slice_files]\n",
    "        process = transforms.Compose(\n",
    "            [\n",
    "                transforms.Resize(256), # For restnet50\n",
    "                transforms.CenterCrop(224),  # For restnet50\n",
    "#                 transforms.Resize(342), # For inceptionv3\n",
    "#                 transforms.CenterCrop(299), # For inceptionv3\n",
    "                transforms.ToTensor(),\n",
    "                transforms.Normalize(mean=[0.485, 0.456, 0.406], std=[0.229, 0.224, 0.225]),\n",
    "            ]\n",
    "        )\n",
    "        weights = torch.tensor(self.df[\"conf\"][idx].to_list())\n",
    "        input_tensor = torch.stack([process(image) for image in image_series])\n",
    "        return input_tensor, torch.tensor(label), weights, self.df['img_series'][idx]"
   ]
  },
  {
   "cell_type": "markdown",
   "metadata": {},
   "source": [
    "## Kidney data"
   ]
  },
  {
   "cell_type": "code",
   "execution_count": 4,
   "metadata": {},
   "outputs": [],
   "source": [
    "base_path = '/storage/student5/minh_chu/Abdominal'"
   ]
  },
  {
   "cell_type": "code",
   "execution_count": 5,
   "metadata": {},
   "outputs": [],
   "source": [
    "train_left_kidney_data = CustomImageDataset(f'{base_path}/left_kidney', 'left_kidney', 'train')\n",
    "val_left_kidney_data = CustomImageDataset(f'{base_path}/left_kidney', 'left_kidney', 'val')\n",
    "test_left_kidney_data = TestImageDataset(f'{base_path}/left_kidney', 'left_kidney')"
   ]
  },
  {
   "cell_type": "code",
   "execution_count": 6,
   "metadata": {},
   "outputs": [],
   "source": [
    "train_right_kidney_data = CustomImageDataset(f'{base_path}/right_kidney', 'right_kidney', 'train')\n",
    "val_right_kidney_data = CustomImageDataset(f'{base_path}/right_kidney', 'right_kidney', 'val')\n",
    "test_right_kidney_data = TestImageDataset(f'{base_path}/right_kidney', 'right_kidney')"
   ]
  },
  {
   "cell_type": "markdown",
   "metadata": {},
   "source": [
    "## Liver data"
   ]
  },
  {
   "cell_type": "code",
   "execution_count": 7,
   "metadata": {},
   "outputs": [],
   "source": [
    "train_liver_data = CustomImageDataset(f'{base_path}/liver', 'liver', 'train')\n",
    "val_liver_data = CustomImageDataset(f'{base_path}/liver', 'liver', 'val')\n",
    "test_liver_data = TestImageDataset(f'{base_path}/liver', 'liver')"
   ]
  },
  {
   "cell_type": "markdown",
   "metadata": {},
   "source": [
    "## Spleen data"
   ]
  },
  {
   "cell_type": "code",
   "execution_count": 8,
   "metadata": {},
   "outputs": [],
   "source": [
    "train_spleen_data = CustomImageDataset(f'{base_path}/spleen', 'spleen', 'train')\n",
    "val_spleen_data = CustomImageDataset(f'{base_path}/spleen', 'spleen', 'val')\n",
    "test_spleen_data = TestImageDataset(f'{base_path}/spleen', 'spleen')"
   ]
  },
  {
   "cell_type": "markdown",
   "metadata": {},
   "source": [
    "## Build model"
   ]
  },
  {
   "cell_type": "code",
   "execution_count": 11,
   "metadata": {},
   "outputs": [],
   "source": [
    "BATCH_SIZE = 128"
   ]
  },
  {
   "cell_type": "code",
   "execution_count": null,
   "metadata": {},
   "outputs": [],
   "source": [
    "# Kidney\n",
    "train_left_kidney_dataloader = DataLoader(train_left_kidney_data, batch_size=BATCH_SIZE, num_workers=3, shuffle = True)\n",
    "val_left_kidney_dataloader = DataLoader(val_left_kidney_data, batch_size=BATCH_SIZE, num_workers=3)"
   ]
  },
  {
   "cell_type": "code",
   "execution_count": null,
   "metadata": {},
   "outputs": [],
   "source": [
    "# Kidney\n",
    "train_right_kidney_dataloader = DataLoader(train_right_kidney_data, batch_size=BATCH_SIZE, num_workers=3, shuffle = True)\n",
    "val_right_kidney_dataloader = DataLoader(val_right_kidney_data, batch_size=BATCH_SIZE, num_workers=3)"
   ]
  },
  {
   "cell_type": "code",
   "execution_count": null,
   "metadata": {},
   "outputs": [],
   "source": [
    "# Liver\n",
    "train_liver_dataloader = DataLoader(train_liver_data, batch_size=BATCH_SIZE, num_workers=3, shuffle = True)\n",
    "val_liver_dataloader = DataLoader(val_liver_data, batch_size=BATCH_SIZE, num_workers=3)"
   ]
  },
  {
   "cell_type": "code",
   "execution_count": null,
   "metadata": {},
   "outputs": [],
   "source": [
    "# Spleen\n",
    "train_spleen_dataloader = DataLoader(train_spleen_data, batch_size=BATCH_SIZE, num_workers=3, shuffle = True)\n",
    "val_spleen_dataloader = DataLoader(val_spleen_data, batch_size=BATCH_SIZE, num_workers=3)"
   ]
  },
  {
   "cell_type": "code",
   "execution_count": 15,
   "metadata": {},
   "outputs": [
    {
     "name": "stdout",
     "output_type": "stream",
     "text": [
      "Using cuda:3 device\n"
     ]
    }
   ],
   "source": [
    "device = (\n",
    "    \"cuda:3\"\n",
    "    if torch.cuda.is_available()\n",
    "    else \"mps\"\n",
    "    if torch.backends.mps.is_available()\n",
    "    else \"cpu\"\n",
    ")\n",
    "print(f\"Using {device} device\")"
   ]
  },
  {
   "cell_type": "code",
   "execution_count": 11,
   "metadata": {},
   "outputs": [],
   "source": [
    "# Define model in pytorch\n",
    "class NNet(nn.Module):\n",
    "    def __init__(self):\n",
    "        super().__init__()\n",
    "        # Backbone\n",
    "        #self.backbone = torchvision.models.resnext50_32x4d(weights = 'DEFAULT')\n",
    "#         self.backbone = torchvision.models.resnet50(weights = 'DEFAULT')\n",
    "        self.backbone = torchvision.models.efficientnet_b2(weights='DEFAULT')\n",
    "        # Define 'necks' for each head\n",
    "        self.layers = nn.Sequential(\n",
    "            nn.Linear(1000, 512),\n",
    "            nn.SiLU(),\n",
    "            nn.Linear(512, 256),\n",
    "            nn.SiLU(),\n",
    "            nn.Linear(256, 64),\n",
    "            nn.ReLU(),\n",
    "            nn.Linear(64, 32),\n",
    "            nn.ReLU(),\n",
    "            nn.Linear(32, 3)\n",
    "        )\n",
    "\n",
    "    def forward(self, x):\n",
    "        x = self.backbone(x)\n",
    "        out = self.layers(x)\n",
    "        return out"
   ]
  },
  {
   "cell_type": "code",
   "execution_count": 15,
   "metadata": {},
   "outputs": [],
   "source": [
    "left_kidney_model = NNet().to(device)\n",
    "right_kidney_model = NNet().to(device)\n",
    "liver_model = NNet().to(device)\n",
    "spleen_model = NNet().to(device)"
   ]
  },
  {
   "cell_type": "code",
   "execution_count": null,
   "metadata": {},
   "outputs": [],
   "source": [
    "# Define loss\n",
    "loss_fn = nn.CrossEntropyLoss()"
   ]
  },
  {
   "cell_type": "code",
   "execution_count": null,
   "metadata": {},
   "outputs": [],
   "source": [
    "# Optimizer\n",
    "#import torch.optim.lr_scheduler as lr_scheduler\n",
    "# optimizer = torch.optim.Adam(model.parameters(), lr=1e-3)\n",
    "# optimizer_bowel = torch.optim.Adam(model.bowel.parameters(), lr=1e-3)\n",
    "# optimizer_extra = torch.optim.Adam(model.extra.parameters(), lr=1e-3)\n",
    "optimizer_left_kidney = torch.optim.SGD(left_kidney_model.parameters(), lr=0.1)\n",
    "optimizer_right_kidney = torch.optim.SGD(right_kidney_model.parameters(), lr=0.1)\n",
    "optimizer_liver = torch.optim.SGD(liver_model.parameters(), lr=0.1)\n",
    "optimizer_spleen = torch.optim.SGD(spleen_model.parameters(), lr=0.1)\n",
    "\n",
    "# Define the cosine annealing learning rate scheduler\n",
    "# scheduler = lr_scheduler.CosineAnnealingLR(optimizer, T_max=10)"
   ]
  },
  {
   "cell_type": "code",
   "execution_count": null,
   "metadata": {},
   "outputs": [],
   "source": [
    "def save_checkpoint(state, is_best, organ, epoch):\n",
    "    os.makedirs(f'{base_path}/weights/{organ}', exist_ok=True)\n",
    "    torch.save(state[f'{organ}_state_dict'], f'{base_path}/weights/{organ}/resnet50_{epoch}_last.pth')\n",
    "    if is_best:\n",
    "        print('Found best')\n",
    "        torch.save(state[f'{organ}_state_dict'], f'{base_path}/weights/{organ}/resnet50_{epoch}_best.pth')"
   ]
  },
  {
   "cell_type": "code",
   "execution_count": null,
   "metadata": {},
   "outputs": [],
   "source": [
    "from tqdm.notebook import tqdm\n",
    "import pandas as pd\n",
    "\n",
    "def train(model, epoch, train_dataloader, val_dataloader, optimizer, loss_fn, organ, fine_tune = False):\n",
    "    scheduler = torch.optim.lr_scheduler.ReduceLROnPlateau(optimizer, 'max', patience=2, verbose = True)\n",
    "    if fine_tune == False:\n",
    "        best_acc = 0\n",
    "        result = {'epoch':[] ,'train_loss_total':[], \"val_loss_total\":[], 'acc_total':[]}\n",
    "    else:\n",
    "        r_prev = pd.read_csv(f'{base_path}/weights/{organ}/resnet50result.csv')\n",
    "        best_acc = max(r_prev['acc_total'])\n",
    "        model.load_state_dict(torch.load(f\"{base_path}/weights/{organ}/resnet50model{epoch}_best.pth\"))\n",
    "        result = r_prev.to_dict('list')\n",
    "        \n",
    "    for e in range(epoch):\n",
    "        # Training loop\n",
    "        print(f\"Epoch {e+1}\")\n",
    "        result['epoch'].append(e+1)\n",
    "        print('Train-----')\n",
    "        loss_epoch = 0\n",
    "        model.train()\n",
    "\n",
    "        for batch_data, batch_labels in tqdm(train_dataloader):\n",
    "\n",
    "            batch_data = batch_data.to(device)\n",
    "            #batch_labels = batch_labels.movedim(0, 1)\n",
    "\n",
    "            # Forward pass\n",
    "            label = batch_labels.to(device)\n",
    "\n",
    "            output = model(batch_data)\n",
    "#             print(output, label)\n",
    "\n",
    "            # Optim\n",
    "            optimizer.zero_grad()\n",
    "            loss = loss_fn(output, label)\n",
    "            loss_epoch += loss.item()\n",
    "#             print(loss_epoch)\n",
    "            loss.backward()\n",
    "            optimizer.step()\n",
    "\n",
    "\n",
    "        # Combined loss\n",
    "        loss_epoch /= len(train_dataloader)\n",
    "        result['train_loss_total'].append(loss_epoch)\n",
    "        \n",
    "\n",
    "        print('Loss: ', loss_epoch)\n",
    "\n",
    "        # Vaidating\n",
    "        size = len(val_dataloader.dataset)\n",
    "        num_batches = len(val_dataloader)\n",
    "        model.eval()\n",
    "\n",
    "\n",
    "        test_loss = 0\n",
    "        correct = 0\n",
    "    \n",
    "        with torch.no_grad():\n",
    "            print('Val------')\n",
    "            for X, y in tqdm(val_dataloader):\n",
    "\n",
    "                X = X.to(device)\n",
    "                pred = model(X)\n",
    "\n",
    "                label = y.to(device)    \n",
    "#                 print(pred, label)\n",
    "\n",
    "                test_loss += loss_fn(pred, label).item()\n",
    "\n",
    "                correct += (pred.argmax(1) == label).type(torch.float).sum().item()\n",
    "\n",
    "        test_loss /= num_batches\n",
    "        correct /= size\n",
    "        scheduler.step(correct)\n",
    "        \n",
    "        result['val_loss_total'].append(test_loss)\n",
    "        result['acc_total'].append(correct)\n",
    "        \n",
    "        # remember best acc@ and save checkpoint\n",
    "        is_best = correct > best_acc\n",
    "        if is_best:\n",
    "            print('Good')\n",
    "        best_acc = max(correct, best_acc)\n",
    "        save_checkpoint({\n",
    "            f'{organ}_state_dict': model.state_dict(),\n",
    "        }, is_best, organ, epoch)\n",
    "        \n",
    "        \n",
    "\n",
    "        print(f\"\"\"Val Error:\n",
    "        Accuracy: {(100*correct)}%\n",
    "        Avg loss: {test_loss}\n",
    "        \"\"\")\n",
    "    r = pd.DataFrame(result)\n",
    "    r.to_csv(f'{base_path}/weights/{organ}/resnet50result.csv')\n",
    "    return result"
   ]
  },
  {
   "cell_type": "code",
   "execution_count": 33,
   "metadata": {
    "scrolled": true
   },
   "outputs": [
    {
     "name": "stdout",
     "output_type": "stream",
     "text": [
      "Sun Jan 28 09:28:48 2024       \n",
      "+---------------------------------------------------------------------------------------+\n",
      "| NVIDIA-SMI 530.30.02              Driver Version: 530.30.02    CUDA Version: 12.1     |\n",
      "|-----------------------------------------+----------------------+----------------------+\n",
      "| GPU  Name                  Persistence-M| Bus-Id        Disp.A | Volatile Uncorr. ECC |\n",
      "| Fan  Temp  Perf            Pwr:Usage/Cap|         Memory-Usage | GPU-Util  Compute M. |\n",
      "|                                         |                      |               MIG M. |\n",
      "|=========================================+======================+======================|\n",
      "|   0  NVIDIA GeForce RTX 3090         On | 00000000:18:00.0 Off |                  N/A |\n",
      "| 56%   55C    P2              115W / 350W|  23701MiB / 24576MiB |     19%      Default |\n",
      "|                                         |                      |                  N/A |\n",
      "+-----------------------------------------+----------------------+----------------------+\n",
      "|   1  NVIDIA GeForce RTX 3090         On | 00000000:3B:00.0 Off |                  N/A |\n",
      "| 41%   48C    P2              113W / 350W|  24127MiB / 24576MiB |      0%      Default |\n",
      "|                                         |                      |                  N/A |\n",
      "+-----------------------------------------+----------------------+----------------------+\n",
      "|   2  NVIDIA GeForce RTX 3090         On | 00000000:86:00.0 Off |                  N/A |\n",
      "| 39%   46C    P2              103W / 350W|  24257MiB / 24576MiB |      0%      Default |\n",
      "|                                         |                      |                  N/A |\n",
      "+-----------------------------------------+----------------------+----------------------+\n",
      "|   3  NVIDIA GeForce RTX 3090         On | 00000000:AF:00.0 Off |                  N/A |\n",
      "| 40%   33C    P8               18W / 350W|    849MiB / 24576MiB |      0%      Default |\n",
      "|                                         |                      |                  N/A |\n",
      "+-----------------------------------------+----------------------+----------------------+\n",
      "                                                                                         \n",
      "+---------------------------------------------------------------------------------------+\n",
      "| Processes:                                                                            |\n",
      "|  GPU   GI   CI        PID   Type   Process name                            GPU Memory |\n",
      "|        ID   ID                                                             Usage      |\n",
      "|=======================================================================================|\n",
      "|    0   N/A  N/A    303492      C   python3                                   23444MiB |\n",
      "|    0   N/A  N/A    304592      C   /home/student5/anaconda3/bin/python         254MiB |\n",
      "|    1   N/A  N/A    310206      C   python3                                   23444MiB |\n",
      "|    1   N/A  N/A    314021      C   ...5/anaconda3/envs/minhchu/bin/python      680MiB |\n",
      "|    3   N/A  N/A    314021      C   ...5/anaconda3/envs/minhchu/bin/python      846MiB |\n",
      "+---------------------------------------------------------------------------------------+\n"
     ]
    }
   ],
   "source": [
    "torch.cuda.empty_cache()\n",
    "with torch.no_grad():\n",
    "    torch.cuda.empty_cache()\n",
    "# del left_kidney_model, right_kidney_model, liver_model, spleen_model\n",
    "import gc\n",
    "gc.collect()\n",
    "!nvidia-smi"
   ]
  },
  {
   "cell_type": "code",
   "execution_count": null,
   "metadata": {},
   "outputs": [],
   "source": [
    "result_l_k = train(left_kidney_model, 20, train_left_kidney_dataloader, val_left_kidney_dataloader, optimizer_left_kidney, loss_fn, 'left_kidney')"
   ]
  },
  {
   "cell_type": "code",
   "execution_count": null,
   "metadata": {
    "scrolled": true
   },
   "outputs": [],
   "source": [
    "result_r_k = train(right_kidney_model, 20, train_right_kidney_dataloader, val_right_kidney_dataloader, optimizer_right_kidney, loss_fn, 'right_kidney')"
   ]
  },
  {
   "cell_type": "code",
   "execution_count": null,
   "metadata": {},
   "outputs": [],
   "source": [
    "result_l = train(liver_model, 20, train_liver_dataloader, val_liver_dataloader, optimizer_liver, loss_fn, 'liver')"
   ]
  },
  {
   "cell_type": "code",
   "execution_count": null,
   "metadata": {},
   "outputs": [],
   "source": [
    "result_s = train(spleen_model, 20, train_spleen_dataloader, val_spleen_dataloader, optimizer_spleen, loss_fn, 'spleen')"
   ]
  },
  {
   "cell_type": "code",
   "execution_count": null,
   "metadata": {},
   "outputs": [],
   "source": [
    "import pandas as pd\n",
    "import matplotlib.pyplot as plt\n",
    "def draw(organ):\n",
    "    df = pd.read_csv(f'{base_path}/weights/{organ}/resnet50result.csv')\n",
    "    fig = plt.figure(figsize=(15, 10))\n",
    "    ax1 = fig.add_subplot(3,1,1)\n",
    "    ax1.plot(df['epoch'], df['train_loss_total'])\n",
    "    ax1.set_title('Train')\n",
    "    plt.xticks(df['epoch'])\n",
    "    plt.xlabel('Epoch')\n",
    "    plt.ylabel('Train loss')\n",
    "    ax2 = fig.add_subplot(3, 1, 2)\n",
    "    ax2.plot(df['epoch'], df['val_loss_total'])\n",
    "    ax2.set_title('Val')\n",
    "    plt.xticks(df['epoch'])\n",
    "    plt.xlabel('Epoch')\n",
    "    plt.ylabel('Val loss')\n",
    "    ax3 = fig.add_subplot(3, 1, 3)\n",
    "    ax3.plot(df['epoch'], df['acc_total'])\n",
    "    ax3.set_title('Acc')\n",
    "    plt.xticks(df['epoch'])\n",
    "    plt.xlabel('Epoch')\n",
    "    plt.ylabel('Acc')\n",
    "    text = f'Best of {organ} is epoch:{df[\"epoch\"][df[\"acc_total\"] == max(df[\"acc_total\"])].iloc[0]} with acc = {round(100*max(df[\"acc_total\"]), 2)}%'\n",
    "#     ax3.text(1, 1, text, ha='left', va='top', weight='bold')\n",
    "    plt.tight_layout()\n",
    "    plt.show()\n",
    "    print(f'Best of {organ} is epoch:{df[\"epoch\"][df[\"acc_total\"] == max(df[\"acc_total\"])].iloc[0]} with acc = {round(100*max(df[\"acc_total\"]), 2)}%')\n",
    "#     plt.savefig(f'/home/student5/minh_chu/model_result/efficientb2/training_progress/{organ}_plot.jpg')"
   ]
  },
  {
   "cell_type": "code",
   "execution_count": null,
   "metadata": {},
   "outputs": [],
   "source": [
    "draw('liver')"
   ]
  },
  {
   "cell_type": "code",
   "execution_count": null,
   "metadata": {},
   "outputs": [],
   "source": [
    "draw('left_kidney')"
   ]
  },
  {
   "cell_type": "code",
   "execution_count": null,
   "metadata": {},
   "outputs": [],
   "source": [
    "draw('right_kidney')"
   ]
  },
  {
   "cell_type": "code",
   "execution_count": null,
   "metadata": {},
   "outputs": [],
   "source": [
    "draw('spleen')"
   ]
  },
  {
   "cell_type": "markdown",
   "metadata": {},
   "source": [
    "# Inference"
   ]
  },
  {
   "cell_type": "code",
   "execution_count": 16,
   "metadata": {},
   "outputs": [
    {
     "data": {
      "text/plain": [
       "<All keys matched successfully>"
      ]
     },
     "execution_count": 16,
     "metadata": {},
     "output_type": "execute_result"
    }
   ],
   "source": [
    "#Left Kidney\n",
    "left_kidney_model = NNet().to(device)\n",
    "left_kidney_model.load_state_dict(torch.load(f\"{base_path}/weights/left_kidney/efficientnetb220_best.pth\", map_location='cuda:3'))"
   ]
  },
  {
   "cell_type": "code",
   "execution_count": 18,
   "metadata": {},
   "outputs": [
    {
     "data": {
      "text/plain": [
       "<All keys matched successfully>"
      ]
     },
     "execution_count": 18,
     "metadata": {},
     "output_type": "execute_result"
    }
   ],
   "source": [
    "#Right Kidney\n",
    "right_kidney_model = NNet().to(device)\n",
    "right_kidney_model.load_state_dict(torch.load(f\"{base_path}/weights/right_kidney/efficientnetb220_best.pth\"))"
   ]
  },
  {
   "cell_type": "code",
   "execution_count": 19,
   "metadata": {},
   "outputs": [
    {
     "data": {
      "text/plain": [
       "<All keys matched successfully>"
      ]
     },
     "execution_count": 19,
     "metadata": {},
     "output_type": "execute_result"
    }
   ],
   "source": [
    "#Liver\n",
    "liver_model = NNet().to(device)\n",
    "liver_model.load_state_dict(torch.load(f\"{base_path}/weights/liver/efficientnetb220_best.pth\"))"
   ]
  },
  {
   "cell_type": "code",
   "execution_count": 20,
   "metadata": {},
   "outputs": [
    {
     "data": {
      "text/plain": [
       "<All keys matched successfully>"
      ]
     },
     "execution_count": 20,
     "metadata": {},
     "output_type": "execute_result"
    }
   ],
   "source": [
    "#Spleen\n",
    "spleen_model = NNet().to(device)\n",
    "spleen_model.load_state_dict(torch.load(f\"{base_path}/weights/spleen/efficientnetb220_best.pth\"))"
   ]
  },
  {
   "cell_type": "code",
   "execution_count": 23,
   "metadata": {},
   "outputs": [],
   "source": [
    "def infer(model, test_data):\n",
    "    model.eval()\n",
    "    soft = nn.Softmax(dim=1)\n",
    "    test_loss = 0\n",
    "    correct = 0\n",
    "    test_dataloader = DataLoader(test_data, batch_size = 1)\n",
    "    size = len(test_dataloader.dataset)\n",
    "    num_batches = len(test_dataloader) \n",
    "    all_list = {'series':[], 'pred_slices':[], 'preds':[], 'final_pred':[],'conf':[] , 'actual':[]}\n",
    "    fail_list = {'series':[], 'pred_slices':[], 'preds':[], 'final_pred':[],'conf':[] , 'actual':[]}\n",
    "    with torch.no_grad():\n",
    "        for series, label, weights, chosen_series in tqdm(test_dataloader):\n",
    "            preds = []\n",
    "            for X, weight in zip(series, weights):\n",
    "                X = X.to(device)\n",
    "                weight = weight.to(device)\n",
    "#                 print(X.shape)\n",
    "#                 print(weight.shape)\n",
    "\n",
    "                preds.append(soft(model(X))*weight.unsqueeze(1))\n",
    "                \n",
    "            preds = torch.stack(preds).cpu()\n",
    "            label = label.cpu()\n",
    "#             print(preds.shape[1])\n",
    "            class_prob = torch.sum(preds, axis=1)/preds.shape[1]\n",
    "            final_pred = class_prob.argmax()\n",
    "\n",
    "            \n",
    "            all_list['pred_slices'].append(preds)\n",
    "            all_list['preds'].append(class_prob)\n",
    "            confidence = class_prob.max()\n",
    "            \n",
    "            all_list['conf'].append(confidence)\n",
    "            all_list['series'].append(chosen_series)\n",
    "            all_list['final_pred'].append(final_pred)\n",
    "            all_list['actual'].append(label)\n",
    "\n",
    "            if final_pred == label:\n",
    "                correct += 1\n",
    "            else:\n",
    "                fail_list['series'].append(chosen_series)\n",
    "                fail_list['pred_slices'].append(preds)\n",
    "                fail_list['preds'].append(class_prob)\n",
    "                fail_list['final_pred'].append(final_pred)\n",
    "                fail_list['conf'].append(confidence)\n",
    "                fail_list['actual'].append(label)\n",
    "\n",
    "#         test_loss /= num_batches\n",
    "        correct /= size\n",
    "\n",
    "        print(f\"\"\"Test Error:\n",
    "        Accuracy: {(100*correct)}%\n",
    "        \"\"\")\n",
    "        return correct, fail_list, all_list"
   ]
  },
  {
   "cell_type": "code",
   "execution_count": 72,
   "metadata": {},
   "outputs": [],
   "source": [
    "from sklearn import metrics\n",
    "from torchmetrics.classification import *\n",
    "\n",
    "def get_metrics(pred, target, conf, organ):\n",
    "    classes = [0, 1, 2]\n",
    "    name = ['healthy', 'low', 'high']\n",
    "    \n",
    "    acc = MulticlassAccuracy(num_classes=3, average=None)\n",
    "    preci = MulticlassPrecision(num_classes=3, average=None)\n",
    "    recall = MulticlassRecall(num_classes=3, average=None)\n",
    "    speci = MulticlassSpecificity(num_classes=3, average=None)\n",
    "    f1s = MulticlassF1Score(num_classes=3, average=None)\n",
    "#     confu = torchmetrics.classification.MulticlassConfusionMatrix(num_classes=3, normalize='true')\n",
    "    roc = MulticlassROC(num_classes=3)\n",
    "    prc = MulticlassPrecisionRecallCurve(num_classes=3)\n",
    "    aucroc = MulticlassAUROC(num_classes=3, average=None)\n",
    "    aucprc = MulticlassAveragePrecision(num_classes=3, average=None)\n",
    "    \n",
    "    target = target.squeeze()\n",
    "    #Accuracy\n",
    "    print('Accuracy:', acc(pred, target))\n",
    "    #Precision\n",
    "    print('Precision:', preci(pred, target))\n",
    "    #Recall\n",
    "    print('Recall:', recall(pred, target))\n",
    "    #Specificity\n",
    "    print('Specificity:', speci(pred, target))\n",
    "    #F1\n",
    "    print('F1:', f1s(pred, target))    \n",
    "    \n",
    "       \n",
    "    \n",
    "    cm = metrics.confusion_matrix(target, pred, labels=classes).astype(float)\n",
    "    row_sum = cm.sum(axis=1).astype(float).reshape(3, 1)\n",
    "    \n",
    "    cm /= row_sum\n",
    "#     cm = cm/cm.astype(float).sum(axis=1)\n",
    "#     cm = cm.round(3)\n",
    "    cm_display = metrics.ConfusionMatrixDisplay(confusion_matrix = cm, display_labels = name)\n",
    "    cm_display.plot()\n",
    "    \n",
    "#     plt.show()\n",
    "    plt.savefig(f'/home/student5/minh_chu/{organ}_efficientb2_confu.jpg', dpi=400)\n",
    "    \n",
    "    conf = conf.squeeze()\n",
    "    \n",
    "    #ROC\n",
    "    # Compute AUC values\n",
    "    aucroc.update(conf, target.type(torch.int64))\n",
    "    aucroc_values = aucroc.compute()\n",
    "    roc.update(conf, target.type(torch.int64))\n",
    "    fpr, tpr, thresholds = roc.compute()\n",
    "#     fig2, ax2 = roc.plot(score=True)\n",
    "    # Plot ROC curve\n",
    "    fig2, ax2 = plt.subplots()\n",
    "    ax2.plot(fpr[0], tpr[0], label=f'healthy AUC:{aucroc_values[0]:.3f}')\n",
    "    ax2.plot(fpr[1], tpr[1], label=f'low AUC:{aucroc_values[1]:.3f}')\n",
    "    ax2.plot(fpr[2], tpr[2], label=f'high AUC:{aucroc_values[2]:.3f}')\n",
    "    ax2.set_xlabel('False Positive Rate')\n",
    "    ax2.set_ylabel('True Positive Rate')\n",
    "    ax2.set_title('Receiver Operating Characteristic (ROC) Curve')\n",
    "    ax2.legend()\n",
    "    ax2.grid(True)\n",
    "    fig2.show()\n",
    "    fig2.savefig(f'/home/student5/minh_chu/{organ}_efficientb2_ROC.jpg', dpi=400)\n",
    "    \n",
    "    #Prc\n",
    "    # Compute AUC values\n",
    "    aucprc.update(conf, target.type(torch.int64))\n",
    "    aucprc_values = aucprc.compute()\n",
    "    prc.update(conf, target.type(torch.int64))\n",
    "    fig_, ax_ = prc.plot(score=True)\n",
    "    fig_.show()\n",
    "    fpr1, tpr1, thresholds1 = prc.compute()\n",
    "\n",
    "    fig3, ax3 = plt.subplots()\n",
    "    ax3.plot(fpr1[0], tpr1[0], label=f'healthy AUC:{aucprc_values[0]:.3f}')\n",
    "    ax3.plot(fpr1[1], tpr1[1], label=f'low AUC:{aucprc_values[1]:.3f}')\n",
    "    ax3.plot(fpr1[2], tpr1[2], label=f'high AUC:{aucprc_values[2]:.3f}')\n",
    "    ax3.set_xlabel('Recall')\n",
    "    ax3.set_ylabel('Precision')\n",
    "    ax3.set_title('Precision Recall Curve')\n",
    "    ax3.legend()\n",
    "    ax3.grid(True)\n",
    "    fig3.show()\n",
    "    fig3.savefig(f'/home/student5/minh_chu/{organ}_efficientb2_PRC.jpg', dpi=400)"
   ]
  },
  {
   "cell_type": "code",
   "execution_count": null,
   "metadata": {},
   "outputs": [],
   "source": [
    "len(test_left_kidney_data)"
   ]
  },
  {
   "cell_type": "code",
   "execution_count": 24,
   "metadata": {},
   "outputs": [
    {
     "data": {
      "application/vnd.jupyter.widget-view+json": {
       "model_id": "c25e1f12c87748bd9a4d9002e99376c7",
       "version_major": 2,
       "version_minor": 0
      },
      "text/plain": [
       "  0%|          | 0/43 [00:00<?, ?it/s]"
      ]
     },
     "metadata": {},
     "output_type": "display_data"
    },
    {
     "name": "stdout",
     "output_type": "stream",
     "text": [
      "Test Error:\n",
      "        Accuracy: 83.72093023255815%\n",
      "        \n"
     ]
    }
   ],
   "source": [
    "correct_lkid, fail_lkid, all_lkid = infer(left_kidney_model, test_left_kidney_data)"
   ]
  },
  {
   "cell_type": "code",
   "execution_count": 25,
   "metadata": {},
   "outputs": [
    {
     "data": {
      "text/plain": [
       "[('60744_10494',),\n",
       " ('10004_21057',),\n",
       " ('42175_28550',),\n",
       " ('27907_2558',),\n",
       " ('12600_3309',),\n",
       " ('14321_8413',),\n",
       " ('43492_45406',)]"
      ]
     },
     "execution_count": 25,
     "metadata": {},
     "output_type": "execute_result"
    }
   ],
   "source": [
    "fail_lkid['series']"
   ]
  },
  {
   "cell_type": "code",
   "execution_count": 26,
   "metadata": {},
   "outputs": [
    {
     "data": {
      "text/plain": [
       "[tensor([[0.7476, 0.1428, 0.0129]]),\n",
       " tensor([[0.3249, 0.0612, 0.5152]]),\n",
       " tensor([[0.0115, 0.2488, 0.5741]]),\n",
       " tensor([[0.3843, 0.5346, 0.0037]]),\n",
       " tensor([[0.2157, 0.5787, 0.1220]]),\n",
       " tensor([[0.6621, 0.2202, 0.0152]]),\n",
       " tensor([[0.0660, 0.3007, 0.1871]])]"
      ]
     },
     "execution_count": 26,
     "metadata": {},
     "output_type": "execute_result"
    }
   ],
   "source": [
    "fail_lkid['preds']"
   ]
  },
  {
   "cell_type": "code",
   "execution_count": 27,
   "metadata": {},
   "outputs": [
    {
     "data": {
      "text/plain": [
       "[tensor([2]),\n",
       " tensor([1]),\n",
       " tensor([1]),\n",
       " tensor([0]),\n",
       " tensor([2]),\n",
       " tensor([1]),\n",
       " tensor([2])]"
      ]
     },
     "execution_count": 27,
     "metadata": {},
     "output_type": "execute_result"
    }
   ],
   "source": [
    "fail_lkid['actual']"
   ]
  },
  {
   "cell_type": "code",
   "execution_count": 73,
   "metadata": {
    "scrolled": true
   },
   "outputs": [
    {
     "name": "stdout",
     "output_type": "stream",
     "text": [
      "Accuracy: tensor([0.9286, 0.8000, 0.7857])\n",
      "Precision: tensor([0.8667, 0.8000, 0.8462])\n",
      "Recall: tensor([0.9286, 0.8000, 0.7857])\n",
      "Specificity: tensor([0.9310, 0.8929, 0.9310])\n",
      "F1: tensor([0.8966, 0.8000, 0.8148])\n"
     ]
    },
    {
     "data": {
      "image/png": "[encoded data removed]",
      "text/plain": [
       "<Figure size 640x480 with 2 Axes>"
      ]
     },
     "metadata": {},
     "output_type": "display_data"
    },
    {
     "data": {
      "image/png": "[encoded data removed]",
      "text/plain": [
       "<Figure size 640x480 with 1 Axes>"
      ]
     },
     "metadata": {},
     "output_type": "display_data"
    },
    {
     "data": {
      "image/png": "[encoded data removed]",
      "text/plain": [
       "<Figure size 640x480 with 1 Axes>"
      ]
     },
     "metadata": {},
     "output_type": "display_data"
    },
    {
     "data": {
      "image/png": "[encoded data removed]",
      "text/plain": [
       "<Figure size 640x480 with 1 Axes>"
      ]
     },
     "metadata": {},
     "output_type": "display_data"
    }
   ],
   "source": [
    "get_metrics(torch.stack(all_lkid['final_pred']),torch.stack(all_lkid['actual']), torch.stack(all_lkid['preds']), 'left_kidney')"
   ]
  },
  {
   "cell_type": "code",
   "execution_count": null,
   "metadata": {},
   "outputs": [],
   "source": [
    "correct_rkid, fail_rkid, all_rkid = infer(right_kidney_model, test_right_kidney_data)"
   ]
  },
  {
   "cell_type": "code",
   "execution_count": null,
   "metadata": {},
   "outputs": [],
   "source": [
    "fail_rkid['series']"
   ]
  },
  {
   "cell_type": "code",
   "execution_count": null,
   "metadata": {},
   "outputs": [],
   "source": [
    "fail_rkid['preds']"
   ]
  },
  {
   "cell_type": "code",
   "execution_count": null,
   "metadata": {},
   "outputs": [],
   "source": [
    "get_metrics(torch.stack(all_rkid['final_pred']),torch.stack(all_rkid['actual']), torch.stack(all_rkid['preds']), 'right_kidney')"
   ]
  },
  {
   "cell_type": "code",
   "execution_count": null,
   "metadata": {},
   "outputs": [],
   "source": [
    "correct_liver, fail_liver, all_liver = infer(liver_model, test_liver_data)"
   ]
  },
  {
   "cell_type": "code",
   "execution_count": null,
   "metadata": {},
   "outputs": [],
   "source": [
    "fail_liver['series']"
   ]
  },
  {
   "cell_type": "code",
   "execution_count": null,
   "metadata": {},
   "outputs": [],
   "source": [
    "fail_liver['preds']"
   ]
  },
  {
   "cell_type": "code",
   "execution_count": null,
   "metadata": {},
   "outputs": [],
   "source": [
    "get_metrics(torch.stack(all_liver['final_pred']),torch.stack(all_liver['actual']), torch.stack(all_liver['preds']), 'liver')"
   ]
  },
  {
   "cell_type": "code",
   "execution_count": null,
   "metadata": {},
   "outputs": [],
   "source": [
    "correct_spleen, fail_spleen, all_spleen = infer(spleen_model, test_spleen_data)"
   ]
  },
  {
   "cell_type": "code",
   "execution_count": null,
   "metadata": {},
   "outputs": [],
   "source": [
    "fail_spleen['series']"
   ]
  },
  {
   "cell_type": "code",
   "execution_count": null,
   "metadata": {},
   "outputs": [],
   "source": [
    "fail_spleen['preds']"
   ]
  },
  {
   "cell_type": "code",
   "execution_count": null,
   "metadata": {},
   "outputs": [],
   "source": [
    "get_metrics(torch.stack(all_spleen['final_pred']),torch.stack(all_spleen['actual']), torch.stack(all_spleen['preds']), 'spleen')"
   ]
  },
  {
   "cell_type": "code",
   "execution_count": null,
   "metadata": {},
   "outputs": [],
   "source": [
    "def get_kidney_pred(all_lkid, all_rkid):\n",
    "    all_lkid = pd.DataFrame(all_lkid)\n",
    "    all_rkid = pd.DataFrame(all_rkid)\n",
    "    merged_df = pd.merge(all_lkid, all_rkid, on='series', how='outer')\n",
    "    merged_df['conf'] = merged_df[['conf_x', 'conf_y']].max(axis=1)\n",
    "    merged_df['final_pred'] = merged_df.apply(lambda row: row['final_pred_x'] \n",
    "                                              if row['conf_x'] >= row['conf_y'] \n",
    "                                              else row['final_pred_y'], axis=1)\n",
    "    merged_df['preds'] = merged_df.apply(lambda row: row['preds_x'] \n",
    "                                              if row['conf_x'] >= row['conf_y'] \n",
    "                                              else row['preds_y'], axis=1)\n",
    "    merged_df['actual'] = merged_df.apply(lambda row: row['actual_x'] \n",
    "                                              if row['conf_x'] >= row['conf_y'] \n",
    "                                              else row['actual_y'], axis=1)\n",
    "    \n",
    "    \n",
    "    # Identify rows in df1 and df2 that don't have a corresponding row in the other DataFrame\n",
    "    missing_rows_all_lkid = merged_df[merged_df['series'].isin(all_lkid['series']) & ~merged_df['series'].isin(all_rkid['series'])]\n",
    "    missing_rows_all_rkid = merged_df[merged_df['series'].isin(all_rkid['series']) & ~merged_df['series'].isin(all_lkid['series'])]\n",
    "    \n",
    "#     print('Left kidney but no right kidney:', missing_rows_all_lkid)\n",
    "#     print('Right kidney but no left kidney:',missing_rows_all_rkid)\n",
    "    \n",
    "    # Update the 'conf' column in the merged DataFrame for the missing rows\n",
    "    merged_df.loc[merged_df['series'].isin(missing_rows_all_lkid['series']), 'conf'] = missing_rows_all_lkid['conf']\n",
    "    merged_df.loc[merged_df['series'].isin(missing_rows_all_rkid['series']), 'conf'] = missing_rows_all_rkid['conf']\n",
    "    merged_df.drop(['conf_x', 'conf_y', \n",
    "                    'final_pred_x', 'final_pred_y', \n",
    "                    'preds_x', 'preds_y',\n",
    "                    'actual_x', 'actual_y'], axis=1, inplace=True)\n",
    "    \n",
    "    # Create a boolean mask indicating the locations of NaN values\n",
    "    mask = missing_rows_all_lkid.isnull()\n",
    "    # Use the 'any()' function to check which columns have at least one NaN value\n",
    "    columns_with_nan = missing_rows_all_lkid.columns[mask.any()].tolist()\n",
    "    missing_rows_all_lkid.drop(columns_with_nan, axis=1, inplace=True)\n",
    "    \n",
    "    # Rename the column using the rename() function\n",
    "    missing_rows_all_lkid = missing_rows_all_lkid.drop(missing_rows_all_lkid.columns[-1], axis=1)\n",
    "    missing_rows_all_lkid.rename(columns={'preds_x': 'preds', 'final_pred_x':'final_pred', 'conf_x':'conf', 'actual_x':'actual'}, inplace=True)\n",
    "    \n",
    "    # Print the columns with NaN values\n",
    "#     print(missing_rows_all_lkid)\n",
    "    merged_df = merged_df[merged_df['series'] != missing_rows_all_lkid['series'].iloc[0]]\n",
    "    # Append df2 to df1\n",
    "    merged_df = pd.concat([missing_rows_all_lkid, merged_df], ignore_index=True)\n",
    "    \n",
    "    return merged_df"
   ]
  },
  {
   "cell_type": "code",
   "execution_count": null,
   "metadata": {},
   "outputs": [],
   "source": [
    "all_kidney = get_kidney_pred(all_lkid, all_rkid)"
   ]
  },
  {
   "cell_type": "code",
   "execution_count": null,
   "metadata": {},
   "outputs": [],
   "source": [
    "all_kidney"
   ]
  },
  {
   "cell_type": "code",
   "execution_count": null,
   "metadata": {},
   "outputs": [],
   "source": [
    "get_metrics(torch.Tensor(all_kidney['final_pred']),torch.Tensor(all_kidney['actual']), torch.stack(all_kidney['preds']), 'kidney_herehere')"
   ]
  },
  {
   "cell_type": "code",
   "execution_count": null,
   "metadata": {
    "scrolled": true
   },
   "outputs": [],
   "source": [
    "dummy = torch.randn(1, 3, 224, 224).to(device)\n",
    "torch.onnx.export(left_kidney_model, dummy, f'{base_path}/weights/left_kidney/resnet50_left_kidney.onnx', input_names = ['image'])"
   ]
  },
  {
   "cell_type": "code",
   "execution_count": null,
   "metadata": {},
   "outputs": [],
   "source": [
    "dummy = torch.randn(1, 3, 224, 224).to(device)\n",
    "torch.onnx.export(right_kidney_model, dummy, f'{base_path}/weights/right_kidney/resnet50_right_kidney.onnx', input_names = ['image'])"
   ]
  },
  {
   "cell_type": "code",
   "execution_count": null,
   "metadata": {},
   "outputs": [],
   "source": [
    "dummy = torch.randn(1, 3, 224, 224).to(device)\n",
    "torch.onnx.export(liver_model, dummy, f'{base_path}/weights/liver/resnet50_liver.onnx', input_names = ['image'])"
   ]
  },
  {
   "cell_type": "code",
   "execution_count": null,
   "metadata": {},
   "outputs": [],
   "source": [
    "efficientb2_dummy = torch.randn(1, 3, 224, 224).to(device)\n",
    "torch.onnx.export(spleen_model, dummy, f'{base_path}/weights/spleen/resnet50_spleen.onnx', input_names = ['image'])"
   ]
  },
  {
   "cell_type": "code",
   "execution_count": null,
   "metadata": {
    "scrolled": true
   },
   "outputs": [],
   "source": [
    "import onnxruntime as ort\n",
    "import os\n",
    "from PIL import Image\n",
    "import torch\n",
    "from torchvision import transforms\n",
    "import pandas as pd\n",
    "import numpy as np\n",
    "from torch.utils.data import DataLoader\n",
    "from torch.utils.data import Dataset\n",
    "\n",
    "def preprocess(image):\n",
    "    process = transforms.Compose(\n",
    "            [\n",
    "                transforms.Resize(256),\n",
    "                transforms.CenterCrop(224),\n",
    "                transforms.ToTensor(),\n",
    "                transforms.Normalize(mean=[0.485, 0.456, 0.406], std=[0.229, 0.224, 0.225]),\n",
    "            ]\n",
    "    )\n",
    "\n",
    "    input_tensor = process(image)\n",
    "    return input_tensor.unsqueeze(dim=0).numpy()\n",
    "\n",
    "class Data(Dataset):\n",
    "    def __init__(self, path, organ):\n",
    "        self.path = path\n",
    "        self.organ = organ\n",
    "        self.series = sorted(os.listdir(path))\n",
    "\n",
    "        self.df = pd.read_csv(f'{self.path}/{organ}.csv')\n",
    "\n",
    "        self.series.pop(self.series.index(f'{organ}.csv'))\n",
    "        \n",
    "    def __len__(self):\n",
    "        return len(self.series)\n",
    "    \n",
    "\n",
    "    def __getitem__(self, idx):\n",
    "        chosen_series = self.series[idx]\n",
    "        label = self.df[self.df['img_path'].str.contains(f'{chosen_series}')]['label'].iloc[0]\n",
    "        label = int(label)\n",
    "\n",
    "        image_series = os.listdir(f'{self.path}/{chosen_series}')\n",
    "\n",
    "        input_tensor = np.array([preprocess(Image.open(f'{self.path}/{chosen_series}/{slice}')) \n",
    "                                    for slice in image_series])\n",
    "        return input_tensor, label, chosen_series\n",
    "    \n",
    "\n",
    "\n",
    "\n",
    "lk_model = ort.InferenceSession(f'{base_path}/weights/left_kidney/efficientb2_left_kidney.onnx')\n",
    "rk_model = ort.InferenceSession(f'{base_path}/weights/right_kidney/efficientb2_right_kidney.onnx')\n",
    "liver_model = ort.InferenceSession(f'{base_path}/weights/liver/efficientb2_liver.onnx')\n",
    "spleen_model = ort.InferenceSession(f'{base_path}/weights/spleen/efficientb2_spleen.onnx')\n",
    "\n",
    "\n",
    "def predict(model, image):\n",
    "    if len(image) == 1:\n",
    "        image = image.numpy()\n",
    "    output = torch.Tensor(model.run(None, {'image':image})[0]).squeeze()\n",
    "    so = torch.nn.Softmax(dim=0)\n",
    "    output = so(output)\n",
    "    return output\n",
    "\n",
    "# # Assigning weight for weighted vote\n",
    "# def assign_weight(images, df):\n",
    "#     weights = []\n",
    "#     if len(images) % 2 != 0:\n",
    "#         middle_index = (len(images) - 1) / 2\n",
    "#     else:\n",
    "#         middle_index = len(images) / 2\n",
    "        \n",
    "#     for i, image in enumerate(images):\n",
    "#         if abs(i - middle_index) <= len(images) / 4:\n",
    "#             weights.append(1.0)  # Assign weight 1 if the image is within the middle 50%\n",
    "#         else:\n",
    "#             weights.append(0.5)  # Assign weight 0.5 otherwise\n",
    "#     return np.array(weights)\n",
    "\n",
    "def my_collate(batch):\n",
    "    data = [item[0] for item in batch]\n",
    "    target = [item[1] for item in batch]\n",
    "    series = [item[2] for item in batch]\n",
    "    return [data, target, series]\n",
    "\n",
    "# Handle input\n",
    "def infer(model, organ):\n",
    "    data = Data(f'{base_path}/{organ}', organ)\n",
    "    loader = DataLoader(data, batch_size=1, num_workers=4)\n",
    "    df = pd.read_csv(f'{base_path}/{organ}/{organ}.csv')\n",
    "    correct = 0\n",
    "    all_list = {'series':[], 'pred_slices':[], 'preds':[], 'final_pred':[],'conf':[] , 'actual':[]}\n",
    "    fail_list = {'series':[], 'pred_slices':[], 'preds':[], 'final_pred':[],'conf':[] , 'actual':[]}\n",
    "    for series_batch, label_batch, chosen_series_batch in tqdm(loader):\n",
    "        for series, label, chosen_series in zip(series_batch, label_batch, chosen_series_batch):\n",
    "            weights = df[df['img_path'].str.contains(f'{chosen_series}')]['conf']\n",
    "            preds = []\n",
    "            for i, image in enumerate(series):\n",
    "                output = predict(model, image)*weights.iloc[i]\n",
    "                preds.append(output.numpy())\n",
    "            \n",
    "            all_list['pred_slices'].append(np.array(preds))\n",
    "            class_prob = np.sum(np.array(preds), axis=0)/len(preds)\n",
    "            all_list['preds'].append(class_prob)\n",
    "            final_pred = class_prob.argmax()\n",
    "            confidence = class_prob.max()\n",
    "            \n",
    "            all_list['conf'].append(confidence)\n",
    "            all_list['series'].append(chosen_series)\n",
    "            all_list['final_pred'].append(final_pred)\n",
    "            all_list['actual'].append(int(label))\n",
    "\n",
    "            if final_pred == int(label):\n",
    "                correct += 1\n",
    "            else:\n",
    "                fail_list['series'].append(chosen_series)\n",
    "                fail_list['pred_slices'].append(np.array(preds))\n",
    "                fail_list['preds'].append(class_prob)\n",
    "                fail_list['final_pred'].append(final_pred)\n",
    "                fail_list['conf'].append(confidence)\n",
    "                fail_list['actual'].append(int(label))\n",
    "    correct /= len(data)\n",
    "    return correct, fail_list, all_list\n",
    "        "
   ]
  },
  {
   "cell_type": "code",
   "execution_count": null,
   "metadata": {
    "scrolled": true
   },
   "outputs": [],
   "source": [
    "correct_spleen, fail_spleen, all_spleen = infer(spleen_model, 'spleen')"
   ]
  },
  {
   "cell_type": "code",
   "execution_count": null,
   "metadata": {},
   "outputs": [],
   "source": [
    "correct_spleen, fail_spleen"
   ]
  },
  {
   "cell_type": "code",
   "execution_count": null,
   "metadata": {
    "scrolled": true
   },
   "outputs": [],
   "source": [
    "get_metrics(torch.Tensor(all_spleen['final_pred']),torch.Tensor(all_spleen['actual']), torch.Tensor(all_spleen['preds']), 'spleen')"
   ]
  },
  {
   "cell_type": "code",
   "execution_count": null,
   "metadata": {},
   "outputs": [],
   "source": [
    "correctl_kid, fail_lkid, all_lkid = infer(lk_model, 'left_kidney')"
   ]
  },
  {
   "cell_type": "code",
   "execution_count": null,
   "metadata": {},
   "outputs": [],
   "source": [
    "healthy_probs = torch.tensor(all_lkid['pred_slices'][0][:, 0])\n",
    "low_probs = torch.tensor(all_lkid['pred_slices'][0][:, 1])\n",
    "high_probs = torch.tensor(all_lkid['pred_slices'][0][:, 2])\n",
    "\n",
    "indexes = all_lkid['pred_slices'][0] > 0.5\n",
    "indexes = indexes.astype(int)\n",
    "true_labels_healthy = torch.tensor(indexes[:, 0])  # Binary labels for \"healthy\" class\n",
    "true_labels_low = torch.tensor(indexes[:, 1])  # Binary labels for \"low\" class\n",
    "true_labels_high = torch.tensor(indexes[:, 2])  # Binary labels for \"high\" class\n",
    "\n",
    "# Calculate ROC curve and AUC for the \"healthy\" class\n",
    "roc_healthy = torchmetrics.classification.BinaryROC()\n",
    "roc_healthy.update(healthy_probs, true_labels_healthy)\n",
    "roc_healthy.plot(score = True)\n",
    "fpr_healthy, tpr_healthy, _ = roc_healthy.compute()\n",
    "\n",
    "# Calculate ROC curve and AUC for the \"low\" class\n",
    "roc_low = torchmetrics.classification.BinaryROC()\n",
    "roc_low.update(low_probs, true_labels_low)\n",
    "roc_low.plot(score = True)\n",
    "fpr_low, tpr_low, _ = roc_low.compute()\n",
    "\n",
    "# Calculate ROC curve and AUC for the \"high\" class\n",
    "roc_high = torchmetrics.classification.BinaryROC()\n",
    "roc_high.update(high_probs, true_labels_high)\n",
    "roc_high.plot(score = True)\n",
    "fpr_high, tpr_high, _ = roc_high.compute()\n",
    "\n",
    "# Plot ROC curves\n",
    "plt.figure()\n",
    "plt.plot(fpr_healthy, tpr_healthy, label='Healthy')\n",
    "plt.plot(fpr_low, tpr_low, label='Low')\n",
    "plt.plot(fpr_high, tpr_high, label='High')\n",
    "plt.plot([0, 1], [0, 1], 'k--')  # Diagonal line representing random classifier\n",
    "plt.xlim([0.0, 1.0])\n",
    "plt.ylim([0.0, 1.05])\n",
    "plt.xlabel('False Positive Rate')\n",
    "plt.ylabel('True Positive Rate')\n",
    "plt.title('Receiver Operating Characteristic')\n",
    "plt.legend(loc=\"lower right\")\n",
    "plt.show()"
   ]
  },
  {
   "cell_type": "code",
   "execution_count": null,
   "metadata": {},
   "outputs": [],
   "source": [
    "data = Data(f'{base_path}/spleen', 'spleen')"
   ]
  },
  {
   "cell_type": "code",
   "execution_count": null,
   "metadata": {},
   "outputs": [],
   "source": [
    "get_metrics(torch.Tensor(all_lkid['final_pred']),torch.Tensor(all_lkid['actual']), torch.Tensor(all_lkid['preds']), 'left_kidney')"
   ]
  },
  {
   "cell_type": "code",
   "execution_count": null,
   "metadata": {},
   "outputs": [],
   "source": [
    "true_labels_healthy = torch.zeros()  # Binary labels for \"healthy\" class\n",
    "true_labels_low = torch.tensor([0, 1, 0, 1, 0])  # Binary labels for \"low\" class\n",
    "true_labels_high = torch.tensor([0, 0, 1, 0, 1])  # Binary labels for \"high\" class"
   ]
  },
  {
   "cell_type": "code",
   "execution_count": null,
   "metadata": {},
   "outputs": [],
   "source": [
    "correctl_kid, fail_lkid"
   ]
  },
  {
   "cell_type": "code",
   "execution_count": null,
   "metadata": {},
   "outputs": [],
   "source": [
    "correctr_kid, fail_rkid, all_rkid = infer(rk_model, 'right_kidney')"
   ]
  },
  {
   "cell_type": "code",
   "execution_count": null,
   "metadata": {
    "scrolled": true
   },
   "outputs": [],
   "source": [
    "get_metrics(torch.Tensor(all_rkid['final_pred']),torch.Tensor(all_rkid['actual']), torch.Tensor(all_rkid['preds']), 'right_kidney')"
   ]
  },
  {
   "cell_type": "code",
   "execution_count": null,
   "metadata": {
    "scrolled": true
   },
   "outputs": [],
   "source": [
    "get_metrics(torch.Tensor(all_liver['final_pred']),torch.Tensor(all_liver['actual']), torch.Tensor(all_liver['preds']), 'liver')"
   ]
  },
  {
   "cell_type": "code",
   "execution_count": null,
   "metadata": {},
   "outputs": [],
   "source": [
    "correct_liver, fail_liver"
   ]
  },
  {
   "cell_type": "code",
   "execution_count": null,
   "metadata": {},
   "outputs": [],
   "source": [
    "all_kidney = get_kidney_pred(all_lkid, all_rkid)"
   ]
  },
  {
   "cell_type": "code",
   "execution_count": null,
   "metadata": {},
   "outputs": [],
   "source": [
    "all_kidney[all_kidney['series'] == '56841_17007']"
   ]
  },
  {
   "cell_type": "code",
   "execution_count": null,
   "metadata": {},
   "outputs": [],
   "source": [
    "get_metrics(torch.Tensor(all_kidney['final_pred']),torch.Tensor(all_kidney['actual']), torch.Tensor(all_kidney['preds']), 'kidney_herehere')"
   ]
  },
  {
   "cell_type": "code",
   "execution_count": null,
   "metadata": {},
   "outputs": [],
   "source": [
    "lk_df = pd.read_csv(f\"{base_path}/left_kidney/left_kidney.csv\")\n",
    "rk_df = pd.read_csv(f\"{base_path}/right_kidney/right_kidney.csv\")"
   ]
  }
 ],
 "metadata": {
  "kaggle": {
   "accelerator": "gpu",
   "dataSources": [
    {
     "databundleVersionId": 6863140,
     "sourceId": 52254,
     "sourceType": "competition"
    },
    {
     "datasetId": 3871992,
     "sourceId": 6720593,
     "sourceType": "datasetVersion"
    },
    {
     "datasetId": 3988720,
     "sourceId": 6945297,
     "sourceType": "datasetVersion"
    },
    {
     "datasetId": 4051279,
     "sourceId": 7041459,
     "sourceType": "datasetVersion"
    },
    {
     "datasetId": 4220041,
     "sourceId": 7278556,
     "sourceType": "datasetVersion"
    },
    {
     "datasetId": 4230418,
     "sourceId": 7293862,
     "sourceType": "datasetVersion"
    },
    {
     "datasetId": 4220820,
     "sourceId": 7279732,
     "sourceType": "datasetVersion"
    },
    {
     "datasetId": 4222495,
     "sourceId": 7282228,
     "sourceType": "datasetVersion"
    },
    {
     "datasetId": 4230605,
     "sourceId": 7294155,
     "sourceType": "datasetVersion"
    }
   ],
   "dockerImageVersionId": 30559,
   "isGpuEnabled": true,
   "isInternetEnabled": true,
   "language": "python",
   "sourceType": "notebook"
  },
  "kernelspec": {
   "display_name": "Python minhchu",
   "language": "python",
   "name": "minhchu"
  },
  "language_info": {
   "codemirror_mode": {
    "name": "ipython",
    "version": 3
   },
   "file_extension": ".py",
   "mimetype": "text/x-python",
   "name": "python",
   "nbconvert_exporter": "python",
   "pygments_lexer": "ipython3",
   "version": "3.10.0"
  }
 },
 "nbformat": 4,
 "nbformat_minor": 4
}
